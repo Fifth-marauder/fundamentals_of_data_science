{
 "cells": [
  {
   "cell_type": "markdown",
   "metadata": {},
   "source": [
    "<h2>Is \"Grimms' Fairy Tales\" Really Grim?</h2>\n",
    "<h5><i>By Kyoosik Kim</i></h5>\n",
    "\n",
    "------\n",
    "### Practical Analysis with Gutenberg Project\n",
    "Some of the stories in <a href=\"https://en.wikipedia.org/wiki/Grimms%27_Fairy_Tales\">\"Grimms' Fairy Tales\"</a> by Grimm bothers are said to have gruesome scenes even if part of them were reenacted into movies or animations for children todays. One question that we can throw here is \"Is it really grim?\" and this could be answered by looking at all the words included in the tales. The following program is devised to read a hundred of words in an instance and count the grim words given as a list.\n",
    "For the fair comparison, the program will also count cheery words and do the same job to <a href=\"https://en.wikipedia.org/wiki/Pride_and_Prejudice\">\"Pride and Prejudice\"</a>. The novel by Jane Austen is a quite suitable for the control group since it is neither grim or cheery in general."
   ]
  },
  {
   "cell_type": "markdown",
   "metadata": {},
   "source": [
    "------\n",
    "### 1. Preparation"
   ]
  },
  {
   "cell_type": "code",
   "execution_count": 1,
   "metadata": {},
   "outputs": [],
   "source": [
    "# libraries\n",
    "import re\n",
    "import pandas as pd\n",
    "from statistics import mean\n",
    "import matplotlib.pyplot as plt"
   ]
  },
  {
   "cell_type": "code",
   "execution_count": 2,
   "metadata": {},
   "outputs": [],
   "source": [
    "# word lists\n",
    "GRIM_WORDS = open('Data/grim_words.txt').read().splitlines()\n",
    "CHEERY_WORDS = open('Data/cheery_words.txt').read().splitlines()"
   ]
  },
  {
   "cell_type": "markdown",
   "metadata": {},
   "source": [
    "#### - Functions for Reading and Cleaning"
   ]
  },
  {
   "cell_type": "code",
   "execution_count": 3,
   "metadata": {},
   "outputs": [],
   "source": [
    "\"\"\"\n",
    "Find the point of start by the full title\n",
    "\"\"\"\n",
    "def process_intro(data, title):\n",
    "    start_idx = 0\n",
    "    \n",
    "    for line in data:\n",
    "        if line.replace('\\n', '') == title:\n",
    "            return data[start_idx+5:] # skip empty lines\n",
    "        start_idx = start_idx + 1\n",
    "    \n",
    "    print(\"Error: title not found\")\n",
    "    return data "
   ]
  },
  {
   "cell_type": "code",
   "execution_count": 4,
   "metadata": {},
   "outputs": [],
   "source": [
    "\"\"\"\n",
    "Set chapters into a dictionary and process paragraphs\n",
    "\"\"\"\n",
    "def process_paragraph(data):\n",
    "    story_dict = {}\n",
    "    chapter = \"\" # or individual tale\n",
    "    paragraph = \"\"\n",
    "    \n",
    "    for line in data:\n",
    "        line = line.replace('\\n', \"\")\n",
    "        \n",
    "        # end of contents\n",
    "        if line == \"*****\" or line.startswith(\"End of the Project Gutenberg\"):\n",
    "            return story_dict\n",
    "        \n",
    "        if re.match(r'[\\w]', line) and (line.isupper() or line.startswith(\"Chapter\")):\n",
    "            chapter = line\n",
    "            story_dict[chapter] = []\n",
    "        elif line == \"\": # next paragraph\n",
    "            if paragraph: # exclude empty paragraph\n",
    "                story_dict[chapter].append([paragraph.strip()])\n",
    "            paragraph = \"\"\n",
    "        else: # add sentences to paragraph\n",
    "            paragraph = paragraph + line.strip() + \" \"\n",
    "    \n",
    "    print(\"Error: a dictionary built but found no end\")\n",
    "    return story_dict"
   ]
  },
  {
   "cell_type": "code",
   "execution_count": 5,
   "metadata": {},
   "outputs": [],
   "source": [
    "\"\"\"\n",
    "Read file and call functions to process it\n",
    "\"\"\"\n",
    "def read_file(filepath, title):\n",
    "    with open(filepath, 'r') as f:\n",
    "        data = f.readlines()\n",
    "        data = process_intro(data, title)\n",
    "        data = process_paragraph(data)\n",
    "        \n",
    "        return data"
   ]
  },
  {
   "cell_type": "markdown",
   "metadata": {},
   "source": [
    "#### - Functions for Analyzing"
   ]
  },
  {
   "cell_type": "code",
   "execution_count": 6,
   "metadata": {},
   "outputs": [],
   "source": [
    "\"\"\"\n",
    "Count grim words and cheery words, plus total number of words\n",
    "\"\"\"\n",
    "def word_match(chapter):\n",
    "    grim_word_count = 0\n",
    "    cheery_word_count = 0\n",
    "    total_count = 0\n",
    "    grim_words = []\n",
    "    cheery_words = []\n",
    "    \n",
    "    for paragraph in chapter:\n",
    "        words = paragraph[0].split(\" \")\n",
    "        for word in words:\n",
    "            word = re.sub(r'[^\\w]', '', word)\n",
    "            if word in GRIM_WORDS:\n",
    "                grim_word_count = grim_word_count + 1\n",
    "                grim_words.append(word)\n",
    "            elif word in CHEERY_WORDS:\n",
    "                cheery_word_count = cheery_word_count + 1\n",
    "                cheery_words.append(word)\n",
    "            total_count = total_count + 1\n",
    "    \n",
    "    return (grim_word_count, cheery_word_count, total_count, \n",
    "            grim_words, cheery_words, len(chapter))"
   ]
  },
  {
   "cell_type": "code",
   "execution_count": 7,
   "metadata": {},
   "outputs": [],
   "source": [
    "\"\"\"\n",
    "Call word_count and return the result in Data Frame\n",
    "\"\"\"\n",
    "def extract_result(story):\n",
    "    grim_total = []\n",
    "    cheery_total = []\n",
    "    final_total = []\n",
    "    grim_words_list = []\n",
    "    cheery_words_list = []\n",
    "    paragraph_num = []\n",
    "\n",
    "    for chapter in story.keys(): # loop through each chapter/story\n",
    "        grim, cheery, total, grim_words, cheery_words, paragraph = word_match(story[chapter])\n",
    "        # build lists for Data Frame\n",
    "        grim_total.append(grim)\n",
    "        cheery_total.append(cheery)\n",
    "        final_total.append(total)\n",
    "        grim_words_list.append(grim_words)\n",
    "        cheery_words_list.append(cheery_words)\n",
    "        paragraph_num.append(paragraph)\n",
    "    \n",
    "    # to Data Frame\n",
    "    result = {'chapter': list(story.keys()), 'grim_total': grim_total, 'grim_words': grim_words_list,\n",
    "              'cheery_total': cheery_total, 'cheery_words': cheery_words_list,\n",
    "              'total': final_total, 'paragraph': paragraph_num}\n",
    "    df = pd.DataFrame(data=result)\n",
    "    \n",
    "    # grim/cheery words per 1,000 words\n",
    "    df['grim_per_k'] = df['grim_total']/df['total']*1000\n",
    "    df['cheery_per_k'] = df['cheery_total']/df['total']*1000\n",
    "    \n",
    "    return df"
   ]
  },
  {
   "cell_type": "code",
   "execution_count": 8,
   "metadata": {},
   "outputs": [],
   "source": [
    "\"\"\"\n",
    "Calculate simple statistics and print them\n",
    "\"\"\"\n",
    "def print_summary(df):\n",
    "    print(\"Total Grim Words:\", sum(df['grim_total']))\n",
    "    print(\"Total Cheery Words:\", sum(df['cheery_total']))\n",
    "    print(\"Average Grim Words per 1,000 Words:\", round(mean(df['grim_per_k']), 3))\n",
    "    print(\"Average Cheery Words per 1,000 Words:\", round(mean(df['cheery_per_k']), 3))\n",
    "    print(\"Grim to Cheery Ratio:\", round(sum(df['grim_total'])/sum(df['cheery_total']), 3))\n",
    "    print(\"Grim Words per Paragraph:\", round(sum(df['grim_total'])/sum(df['paragraph']), 3))"
   ]
  },
  {
   "cell_type": "code",
   "execution_count": 9,
   "metadata": {},
   "outputs": [],
   "source": [
    "\"\"\"\n",
    "Read each word and count how many the same word is in a list\n",
    "\"\"\"\n",
    "def word_count(word_list):\n",
    "    word_list = sorted(word_list)\n",
    "    word_dict = {}\n",
    "    \n",
    "    this_word = word_list[0]\n",
    "    count = 0\n",
    "    for word in word_list:\n",
    "        if word != this_word:\n",
    "            word_dict[this_word] = count\n",
    "            this_word = word\n",
    "            count = 1\n",
    "        else:\n",
    "            count = count + 1\n",
    "    \n",
    "    word_dict[this_word] = count\n",
    "    word_df = pd.DataFrame({'word': list(word_dict.keys()), 'count': list(word_dict.values())})\n",
    "    \n",
    "    return word_df"
   ]
  },
  {
   "cell_type": "code",
   "execution_count": 10,
   "metadata": {},
   "outputs": [],
   "source": [
    "\"\"\"\n",
    "Call word_count and return as data frame\n",
    "\"\"\"\n",
    "def word_df(df):\n",
    "    grim_list = []\n",
    "    cheery_list = []\n",
    "    \n",
    "    for g, c in zip(df['grim_words'], df['cheery_words']):\n",
    "        for word in g:\n",
    "            grim_list.append(word)\n",
    "        for word in c:\n",
    "            cheery_list.append(word)\n",
    "        \n",
    "    grim_df = word_count(grim_list).sort_values('count', ascending=False)\n",
    "    cheery_df = word_count(cheery_list).sort_values('count', ascending=False)\n",
    "    \n",
    "    return grim_df, cheery_df"
   ]
  },
  {
   "cell_type": "markdown",
   "metadata": {},
   "source": [
    "------\n",
    "### 2. Load and Analysis"
   ]
  },
  {
   "cell_type": "code",
   "execution_count": 11,
   "metadata": {
    "scrolled": true
   },
   "outputs": [
    {
     "data": {
      "text/html": [
       "<div>\n",
       "<style scoped>\n",
       "    .dataframe tbody tr th:only-of-type {\n",
       "        vertical-align: middle;\n",
       "    }\n",
       "\n",
       "    .dataframe tbody tr th {\n",
       "        vertical-align: top;\n",
       "    }\n",
       "\n",
       "    .dataframe thead th {\n",
       "        text-align: right;\n",
       "    }\n",
       "</style>\n",
       "<table border=\"1\" class=\"dataframe\">\n",
       "  <thead>\n",
       "    <tr style=\"text-align: right;\">\n",
       "      <th></th>\n",
       "      <th>chapter</th>\n",
       "      <th>grim_total</th>\n",
       "      <th>grim_words</th>\n",
       "      <th>cheery_total</th>\n",
       "      <th>cheery_words</th>\n",
       "      <th>total</th>\n",
       "      <th>paragraph</th>\n",
       "      <th>grim_per_k</th>\n",
       "      <th>cheery_per_k</th>\n",
       "    </tr>\n",
       "  </thead>\n",
       "  <tbody>\n",
       "    <tr>\n",
       "      <th>0</th>\n",
       "      <td>THE GOLDEN BIRD</td>\n",
       "      <td>3</td>\n",
       "      <td>[kill, kill, kill]</td>\n",
       "      <td>1</td>\n",
       "      <td>[life]</td>\n",
       "      <td>2527</td>\n",
       "      <td>19</td>\n",
       "      <td>1.187178</td>\n",
       "      <td>0.395726</td>\n",
       "    </tr>\n",
       "    <tr>\n",
       "      <th>1</th>\n",
       "      <td>HANS IN LUCK</td>\n",
       "      <td>2</td>\n",
       "      <td>[kill, grave]</td>\n",
       "      <td>7</td>\n",
       "      <td>[born, heart, heart, born, heart, born, heart]</td>\n",
       "      <td>2351</td>\n",
       "      <td>19</td>\n",
       "      <td>0.850702</td>\n",
       "      <td>2.977456</td>\n",
       "    </tr>\n",
       "    <tr>\n",
       "      <th>2</th>\n",
       "      <td>JORINDA AND JORINDEL</td>\n",
       "      <td>0</td>\n",
       "      <td>[]</td>\n",
       "      <td>0</td>\n",
       "      <td>[]</td>\n",
       "      <td>1133</td>\n",
       "      <td>16</td>\n",
       "      <td>0.000000</td>\n",
       "      <td>0.000000</td>\n",
       "    </tr>\n",
       "    <tr>\n",
       "      <th>3</th>\n",
       "      <td>THE TRAVELLING MUSICIANS</td>\n",
       "      <td>0</td>\n",
       "      <td>[]</td>\n",
       "      <td>3</td>\n",
       "      <td>[life, heart, being]</td>\n",
       "      <td>1361</td>\n",
       "      <td>8</td>\n",
       "      <td>0.000000</td>\n",
       "      <td>2.204262</td>\n",
       "    </tr>\n",
       "    <tr>\n",
       "      <th>4</th>\n",
       "      <td>OLD SULTAN</td>\n",
       "      <td>1</td>\n",
       "      <td>[kill]</td>\n",
       "      <td>0</td>\n",
       "      <td>[]</td>\n",
       "      <td>870</td>\n",
       "      <td>5</td>\n",
       "      <td>1.149425</td>\n",
       "      <td>0.000000</td>\n",
       "    </tr>\n",
       "    <tr>\n",
       "      <th>5</th>\n",
       "      <td>THE STRAW, THE COAL, AND THE BEAN</td>\n",
       "      <td>0</td>\n",
       "      <td>[]</td>\n",
       "      <td>1</td>\n",
       "      <td>[heart]</td>\n",
       "      <td>503</td>\n",
       "      <td>4</td>\n",
       "      <td>0.000000</td>\n",
       "      <td>1.988072</td>\n",
       "    </tr>\n",
       "    <tr>\n",
       "      <th>6</th>\n",
       "      <td>BRIAR ROSE</td>\n",
       "      <td>0</td>\n",
       "      <td>[]</td>\n",
       "      <td>0</td>\n",
       "      <td>[]</td>\n",
       "      <td>1510</td>\n",
       "      <td>10</td>\n",
       "      <td>0.000000</td>\n",
       "      <td>0.000000</td>\n",
       "    </tr>\n",
       "    <tr>\n",
       "      <th>7</th>\n",
       "      <td>THE DOG AND THE SPARROW</td>\n",
       "      <td>3</td>\n",
       "      <td>[kill, kill, kill]</td>\n",
       "      <td>4</td>\n",
       "      <td>[life, life, life, life]</td>\n",
       "      <td>1342</td>\n",
       "      <td>2</td>\n",
       "      <td>2.235469</td>\n",
       "      <td>2.980626</td>\n",
       "    </tr>\n",
       "    <tr>\n",
       "      <th>8</th>\n",
       "      <td>THE TWELVE DANCING PRINCESSES</td>\n",
       "      <td>0</td>\n",
       "      <td>[]</td>\n",
       "      <td>1</td>\n",
       "      <td>[life]</td>\n",
       "      <td>1601</td>\n",
       "      <td>12</td>\n",
       "      <td>0.000000</td>\n",
       "      <td>0.624610</td>\n",
       "    </tr>\n",
       "    <tr>\n",
       "      <th>9</th>\n",
       "      <td>THE FISHERMAN AND HIS WIFE</td>\n",
       "      <td>0</td>\n",
       "      <td>[]</td>\n",
       "      <td>3</td>\n",
       "      <td>[heart, being, being]</td>\n",
       "      <td>2115</td>\n",
       "      <td>25</td>\n",
       "      <td>0.000000</td>\n",
       "      <td>1.418440</td>\n",
       "    </tr>\n",
       "  </tbody>\n",
       "</table>\n",
       "</div>"
      ],
      "text/plain": [
       "                             chapter  grim_total          grim_words  \\\n",
       "0                    THE GOLDEN BIRD           3  [kill, kill, kill]   \n",
       "1                       HANS IN LUCK           2       [kill, grave]   \n",
       "2               JORINDA AND JORINDEL           0                  []   \n",
       "3           THE TRAVELLING MUSICIANS           0                  []   \n",
       "4                         OLD SULTAN           1              [kill]   \n",
       "5  THE STRAW, THE COAL, AND THE BEAN           0                  []   \n",
       "6                         BRIAR ROSE           0                  []   \n",
       "7            THE DOG AND THE SPARROW           3  [kill, kill, kill]   \n",
       "8      THE TWELVE DANCING PRINCESSES           0                  []   \n",
       "9         THE FISHERMAN AND HIS WIFE           0                  []   \n",
       "\n",
       "   cheery_total                                    cheery_words  total  \\\n",
       "0             1                                          [life]   2527   \n",
       "1             7  [born, heart, heart, born, heart, born, heart]   2351   \n",
       "2             0                                              []   1133   \n",
       "3             3                            [life, heart, being]   1361   \n",
       "4             0                                              []    870   \n",
       "5             1                                         [heart]    503   \n",
       "6             0                                              []   1510   \n",
       "7             4                        [life, life, life, life]   1342   \n",
       "8             1                                          [life]   1601   \n",
       "9             3                           [heart, being, being]   2115   \n",
       "\n",
       "   paragraph  grim_per_k  cheery_per_k  \n",
       "0         19    1.187178      0.395726  \n",
       "1         19    0.850702      2.977456  \n",
       "2         16    0.000000      0.000000  \n",
       "3          8    0.000000      2.204262  \n",
       "4          5    1.149425      0.000000  \n",
       "5          4    0.000000      1.988072  \n",
       "6         10    0.000000      0.000000  \n",
       "7          2    2.235469      2.980626  \n",
       "8         12    0.000000      0.624610  \n",
       "9         25    0.000000      1.418440  "
      ]
     },
     "execution_count": 11,
     "metadata": {},
     "output_type": "execute_result"
    }
   ],
   "source": [
    "grimms_fairy_tales = read_file('Data/Grimms_Fairy_Tales.txt', \"THE BROTHERS GRIMM FAIRY TALES\")\n",
    "assert str(grimms_fairy_tales['HANSEL AND GRETEL'][1][0]).startswith(\"The two children\")\n",
    "assert len(grimms_fairy_tales.keys()) == 62\n",
    "\n",
    "grimms_df = extract_result(grimms_fairy_tales)\n",
    "grimms_df.head(10)"
   ]
  },
  {
   "cell_type": "code",
   "execution_count": 12,
   "metadata": {
    "scrolled": true
   },
   "outputs": [
    {
     "data": {
      "text/html": [
       "<div>\n",
       "<style scoped>\n",
       "    .dataframe tbody tr th:only-of-type {\n",
       "        vertical-align: middle;\n",
       "    }\n",
       "\n",
       "    .dataframe tbody tr th {\n",
       "        vertical-align: top;\n",
       "    }\n",
       "\n",
       "    .dataframe thead th {\n",
       "        text-align: right;\n",
       "    }\n",
       "</style>\n",
       "<table border=\"1\" class=\"dataframe\">\n",
       "  <thead>\n",
       "    <tr style=\"text-align: right;\">\n",
       "      <th></th>\n",
       "      <th>chapter</th>\n",
       "      <th>grim_total</th>\n",
       "      <th>grim_words</th>\n",
       "      <th>cheery_total</th>\n",
       "      <th>cheery_words</th>\n",
       "      <th>total</th>\n",
       "      <th>paragraph</th>\n",
       "      <th>grim_per_k</th>\n",
       "      <th>cheery_per_k</th>\n",
       "    </tr>\n",
       "  </thead>\n",
       "  <tbody>\n",
       "    <tr>\n",
       "      <th>0</th>\n",
       "      <td>Chapter 1</td>\n",
       "      <td>0</td>\n",
       "      <td>[]</td>\n",
       "      <td>1</td>\n",
       "      <td>[life]</td>\n",
       "      <td>847</td>\n",
       "      <td>34</td>\n",
       "      <td>0.000000</td>\n",
       "      <td>1.180638</td>\n",
       "    </tr>\n",
       "    <tr>\n",
       "      <th>1</th>\n",
       "      <td>Chapter 2</td>\n",
       "      <td>0</td>\n",
       "      <td>[]</td>\n",
       "      <td>1</td>\n",
       "      <td>[life]</td>\n",
       "      <td>796</td>\n",
       "      <td>27</td>\n",
       "      <td>0.000000</td>\n",
       "      <td>1.256281</td>\n",
       "    </tr>\n",
       "    <tr>\n",
       "      <th>2</th>\n",
       "      <td>Chapter 3</td>\n",
       "      <td>0</td>\n",
       "      <td>[]</td>\n",
       "      <td>10</td>\n",
       "      <td>[heart, being, being, being, being, being, lif...</td>\n",
       "      <td>1692</td>\n",
       "      <td>20</td>\n",
       "      <td>0.000000</td>\n",
       "      <td>5.910165</td>\n",
       "    </tr>\n",
       "    <tr>\n",
       "      <th>3</th>\n",
       "      <td>Chapter 4</td>\n",
       "      <td>0</td>\n",
       "      <td>[]</td>\n",
       "      <td>4</td>\n",
       "      <td>[being, life, being, life]</td>\n",
       "      <td>1053</td>\n",
       "      <td>16</td>\n",
       "      <td>0.000000</td>\n",
       "      <td>3.798670</td>\n",
       "    </tr>\n",
       "    <tr>\n",
       "      <th>4</th>\n",
       "      <td>Chapter 5</td>\n",
       "      <td>0</td>\n",
       "      <td>[]</td>\n",
       "      <td>3</td>\n",
       "      <td>[being, being, being]</td>\n",
       "      <td>946</td>\n",
       "      <td>23</td>\n",
       "      <td>0.000000</td>\n",
       "      <td>3.171247</td>\n",
       "    </tr>\n",
       "    <tr>\n",
       "      <th>5</th>\n",
       "      <td>Chapter 6</td>\n",
       "      <td>1</td>\n",
       "      <td>[grave]</td>\n",
       "      <td>9</td>\n",
       "      <td>[being, heart, being, heart, life, being, ener...</td>\n",
       "      <td>2338</td>\n",
       "      <td>54</td>\n",
       "      <td>0.427716</td>\n",
       "      <td>3.849444</td>\n",
       "    </tr>\n",
       "    <tr>\n",
       "      <th>6</th>\n",
       "      <td>Chapter 7</td>\n",
       "      <td>1</td>\n",
       "      <td>[dying]</td>\n",
       "      <td>6</td>\n",
       "      <td>[life, heart, activity, impulse, activity, being]</td>\n",
       "      <td>1979</td>\n",
       "      <td>48</td>\n",
       "      <td>0.505306</td>\n",
       "      <td>3.031834</td>\n",
       "    </tr>\n",
       "    <tr>\n",
       "      <th>7</th>\n",
       "      <td>Chapter 8</td>\n",
       "      <td>0</td>\n",
       "      <td>[]</td>\n",
       "      <td>7</td>\n",
       "      <td>[being, being, heart, heart, heart, being, being]</td>\n",
       "      <td>1927</td>\n",
       "      <td>59</td>\n",
       "      <td>0.000000</td>\n",
       "      <td>3.632590</td>\n",
       "    </tr>\n",
       "    <tr>\n",
       "      <th>8</th>\n",
       "      <td>Chapter 9</td>\n",
       "      <td>0</td>\n",
       "      <td>[]</td>\n",
       "      <td>3</td>\n",
       "      <td>[being, being, being]</td>\n",
       "      <td>1726</td>\n",
       "      <td>39</td>\n",
       "      <td>0.000000</td>\n",
       "      <td>1.738123</td>\n",
       "    </tr>\n",
       "    <tr>\n",
       "      <th>9</th>\n",
       "      <td>Chapter 10</td>\n",
       "      <td>0</td>\n",
       "      <td>[]</td>\n",
       "      <td>1</td>\n",
       "      <td>[being]</td>\n",
       "      <td>2199</td>\n",
       "      <td>66</td>\n",
       "      <td>0.000000</td>\n",
       "      <td>0.454752</td>\n",
       "    </tr>\n",
       "  </tbody>\n",
       "</table>\n",
       "</div>"
      ],
      "text/plain": [
       "      chapter  grim_total grim_words  cheery_total  \\\n",
       "0   Chapter 1           0         []             1   \n",
       "1   Chapter 2           0         []             1   \n",
       "2   Chapter 3           0         []            10   \n",
       "3   Chapter 4           0         []             4   \n",
       "4   Chapter 5           0         []             3   \n",
       "5   Chapter 6           1    [grave]             9   \n",
       "6   Chapter 7           1    [dying]             6   \n",
       "7   Chapter 8           0         []             7   \n",
       "8   Chapter 9           0         []             3   \n",
       "9  Chapter 10           0         []             1   \n",
       "\n",
       "                                        cheery_words  total  paragraph  \\\n",
       "0                                             [life]    847         34   \n",
       "1                                             [life]    796         27   \n",
       "2  [heart, being, being, being, being, being, lif...   1692         20   \n",
       "3                         [being, life, being, life]   1053         16   \n",
       "4                              [being, being, being]    946         23   \n",
       "5  [being, heart, being, heart, life, being, ener...   2338         54   \n",
       "6  [life, heart, activity, impulse, activity, being]   1979         48   \n",
       "7  [being, being, heart, heart, heart, being, being]   1927         59   \n",
       "8                              [being, being, being]   1726         39   \n",
       "9                                            [being]   2199         66   \n",
       "\n",
       "   grim_per_k  cheery_per_k  \n",
       "0    0.000000      1.180638  \n",
       "1    0.000000      1.256281  \n",
       "2    0.000000      5.910165  \n",
       "3    0.000000      3.798670  \n",
       "4    0.000000      3.171247  \n",
       "5    0.427716      3.849444  \n",
       "6    0.505306      3.031834  \n",
       "7    0.000000      3.632590  \n",
       "8    0.000000      1.738123  \n",
       "9    0.000000      0.454752  "
      ]
     },
     "execution_count": 12,
     "metadata": {},
     "output_type": "execute_result"
    }
   ],
   "source": [
    "pride_and_prejudice = read_file('Data/Pride_And_Prejudice.txt', \"PRIDE AND PREJUDICE\")\n",
    "pride_df = extract_result(pride_and_prejudice)\n",
    "pride_df.head(10)"
   ]
  },
  {
   "cell_type": "markdown",
   "metadata": {},
   "source": [
    "From the top 10 rows of each novels, it seems like Grimms' Fairy Tales has more grim words than Pride and Prejudice, and the other way around for cheery words. This also can be found in '~per_k' variables which tells how many grim or cheery words appearing per 1,000 words."
   ]
  },
  {
   "cell_type": "markdown",
   "metadata": {},
   "source": [
    "------\n",
    "### 3. Final Result"
   ]
  },
  {
   "cell_type": "code",
   "execution_count": 13,
   "metadata": {},
   "outputs": [
    {
     "name": "stdout",
     "output_type": "stream",
     "text": [
      "Total Grim Words: 48\n",
      "Total Cheery Words: 149\n",
      "Average Grim Words per 1,000 Words: 0.454\n",
      "Average Cheery Words per 1,000 Words: 1.467\n",
      "Grim to Cheery Ratio: 0.322\n",
      "Grim Words per Paragraph: 0.053\n"
     ]
    }
   ],
   "source": [
    "print_summary(grimms_df)"
   ]
  },
  {
   "cell_type": "code",
   "execution_count": 14,
   "metadata": {},
   "outputs": [
    {
     "name": "stdout",
     "output_type": "stream",
     "text": [
      "Total Grim Words: 30\n",
      "Total Cheery Words: 312\n",
      "Average Grim Words per 1,000 Words: 0.224\n",
      "Average Cheery Words per 1,000 Words: 2.55\n",
      "Grim to Cheery Ratio: 0.096\n",
      "Grim Words per Paragraph: 0.015\n"
     ]
    }
   ],
   "source": [
    "print_summary(pride_df)"
   ]
  },
  {
   "cell_type": "markdown",
   "metadata": {},
   "source": [
    "For all chapters and the complete story, Grimms' Fairy Tales definitely is more scary. Even if the novel has slightly less total words than Pride and Prejudice, it still has much more grim words, and of course, less cheery words. The per 1,000 figures are distinctively different, again proving that Grimms' Fairy Tales are scary."
   ]
  },
  {
   "cell_type": "code",
   "execution_count": 15,
   "metadata": {},
   "outputs": [
    {
     "data": {
      "image/png": "[encoded data removed]",
      "text/plain": [
       "<Figure size 1152x432 with 2 Axes>"
      ]
     },
     "metadata": {},
     "output_type": "display_data"
    }
   ],
   "source": [
    "grimms_grim, grimms_cheery = word_df(grimms_df)\n",
    "pride_grim, pride_cheery = word_df(pride_df)\n",
    "\n",
    "fig, ax = plt.subplots(1, 2, figsize=(16, 6))\n",
    "plt.suptitle(\"Grim Words Breakdown\", fontsize=18)\n",
    "\n",
    "ax[0].set_xlabel(\"Grimms' Fairy Tales\", fontsize=15)\n",
    "ax[0].pie(grimms_grim['count'], labels=grimms_grim['word'])\n",
    "\n",
    "ax[1].set_xlabel(\"Pride and Prejudice\", fontsize=15)\n",
    "ax[1].pie(pride_grim['count'], labels=pride_grim['word'])\n",
    "\n",
    "plt.show()"
   ]
  },
  {
   "cell_type": "markdown",
   "metadata": {},
   "source": [
    "While the analysis has been focused on 'How Many' so far, I would like to investigate its qualitative aspect. As seen on the pie charts, the word 'kill' is dominant in the grim words found in Grimms' Fairy Tales. On the other hand, it is the 'grave' for Pride and Prejudice. The word 'grave' could be neutral, but hardly is so the word 'kill'."
   ]
  },
  {
   "cell_type": "code",
   "execution_count": 16,
   "metadata": {},
   "outputs": [
    {
     "data": {
      "image/png": "[encoded data removed]",
      "text/plain": [
       "<Figure size 1152x432 with 2 Axes>"
      ]
     },
     "metadata": {},
     "output_type": "display_data"
    }
   ],
   "source": [
    "pride_cheery['word'] = pride_cheery.apply(lambda row : \"\" if row['count'] < 5 \n",
    "                                          else row['word'], axis=1)\n",
    "\n",
    "fig, ax = plt.subplots(1, 2, figsize=(16, 6))\n",
    "plt.suptitle(\"Cheery Words Breakdown\", fontsize=18)\n",
    "\n",
    "ax[0].set_xlabel(\"Grimms' Fairy Tales\", fontsize=15)\n",
    "ax[0].pie(grimms_cheery['count'], labels=grimms_cheery['word'])\n",
    "\n",
    "ax[1].set_xlabel(\"Pride and Prejudice\", fontsize=15)\n",
    "ax[1].pie(pride_cheery['count'], labels=pride_cheery['word'])\n",
    "\n",
    "plt.show()"
   ]
  },
  {
   "cell_type": "markdown",
   "metadata": {},
   "source": [
    "The same analysis for cheery word came as similar between two fictions in that the top 3 are the same in different order; 'being', 'heart', 'life'. However, Jane Austen's novel has more diverse cheery words, which is different from Grimms Brothers' Tales. In addition, the first ranked word 'heart' in Grimms' Fairy Tales could be used as negative. As part of qualitative investigation, I looked up the word in the novel and found they were used to describe a cruel scene such as \"...her heart gave way and she died...\" in the story <i>The Robber Brideroom</i>."
   ]
  },
  {
   "cell_type": "markdown",
   "metadata": {},
   "source": [
    "------\n",
    "### 4. Conclusion"
   ]
  },
  {
   "cell_type": "code",
   "execution_count": 17,
   "metadata": {},
   "outputs": [
    {
     "name": "stdout",
     "output_type": "stream",
     "text": [
      "*** Grim Words in Grimms' Fairy Tales ***\n",
      "Overall: 48\n",
      "Per Story: 0.774\n",
      "Per Paragraph: 0.053\n"
     ]
    }
   ],
   "source": [
    "print(\"*** Grim Words in Grimms' Fairy Tales ***\")\n",
    "print(\"Overall:\", sum(grimms_df['grim_total']))\n",
    "print(\"Per Story:\", round(sum(grimms_df['grim_total'])/len(grimms_df), 3))\n",
    "print(\"Per Paragraph:\", round(sum(grimms_df['grim_total'])/sum(grimms_df['paragraph']), 3))"
   ]
  },
  {
   "cell_type": "markdown",
   "metadata": {},
   "source": [
    "Through the investigation in both quantity and quality, it was found that 'Grimms' Fairy Tales' is quite scary. There are 53 grim words every 1,000 paragraph as opposed to 15 of 'Pride and Prejudice', which is more than triple times. It is more cruel too in terms of the words, considering their qualities. However, there are some points that would improve this project. One is enlarge the words sets so more specific words could be caught. The other is allow transformation of words. Especially, verbs can come in many other ways that will not violate the goal of the project. Nonetheless, it was enough to answer the question of the project; 'Grimms' Fairy Tales' is grim."
   ]
  }
 ],
 "metadata": {
  "kernelspec": {
   "display_name": "Python 3",
   "language": "python",
   "name": "python3"
  },
  "language_info": {
   "codemirror_mode": {
    "name": "ipython",
    "version": 3
   },
   "file_extension": ".py",
   "mimetype": "text/x-python",
   "name": "python",
   "nbconvert_exporter": "python",
   "pygments_lexer": "ipython3",
   "version": "3.6.3"
  }
 },
 "nbformat": 4,
 "nbformat_minor": 2
}

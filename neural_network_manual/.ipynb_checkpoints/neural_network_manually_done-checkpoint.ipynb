{
 "cells": [
  {
   "cell_type": "markdown",
   "metadata": {},
   "source": [
    "## Neural Network Done Manually\n",
    "#### *By Kyoosik Kim*\n",
    "*Build a Simple Neural Network on Your Own*\n",
    "\n",
    "The following code implements Neural Network with 2 layers with 3 nodes. It will be tested with a dataset with 3 independent variables and 1 dependent variable ($100 \\times 4$). The test is designed to observe how Neural Network converges depending on Epoch and Learning Rate. For the sake of faster and stable computation, the values of the dataset will be normalized.\n",
    "\n",
    "------"
   ]
  },
  {
   "cell_type": "markdown",
   "metadata": {},
   "source": [
    "### Mathematical Background\n",
    "There are many libraries and frameworks available with Neural Network so you can simply use them. However, it will be a good idea to understand how it is built inside if you want to get the best out of Neural Network because there are several parameters that you can adjust to make it perform faster and better. Understanding the math behind it is necessary to manipulate Neural Network.\n",
    "\n",
    "------"
   ]
  },
  {
   "cell_type": "markdown",
   "metadata": {},
   "source": [
    "### Neural Network Class"
   ]
  },
  {
   "cell_type": "code",
   "execution_count": 154,
   "metadata": {},
   "outputs": [],
   "source": [
    "import numpy as np\n",
    "import pandas as pd\n",
    "import matplotlib.pyplot as plt\n",
    "%matplotlib inline\n",
    "\n",
    "np.random.seed(123)"
   ]
  },
  {
   "cell_type": "code",
   "execution_count": 155,
   "metadata": {},
   "outputs": [],
   "source": [
    "class TwoLayerNN:\n",
    "    \"\"\"\n",
    "    Two layer neural network\n",
    "    \"\"\"\n",
    "    def __init__(self, X, y, activations=(\"sigmoid\", \"sigmoid\", \"sigmoid\"), \n",
    "                 learning_rate=0.01):\n",
    "        self.learning_rate = learning_rate\n",
    "        self.X  = X\n",
    "        self.y  = y\n",
    "        self.W0 = 2 * np.random.random((3, 3)) - 1 # input to 3 nodes\n",
    "        self.W1 = 2 * np.random.random((3, 3)) - 1 # hidden layer to hidden layer\n",
    "        self.W2 = 2 * np.random.random((3, 1)) - 1 # hidden to output\n",
    "        self.l0 = X # input layer\n",
    "        self.l1 = None\n",
    "        self.l2 = None\n",
    "        self.output = None\n",
    "        available_activations = {\n",
    "            \"sigmoid\": self.sigmoid,\n",
    "            \"linear\":  self.linear,\n",
    "            \"tanh\":    self.tanh\n",
    "        }\n",
    "        self.activation0 = available_activations[activations[0]]\n",
    "        self.activation1 = available_activations[activations[1]]\n",
    "        self.activation2 = available_activations[activations[2]]\n",
    "\n",
    "    def sigmoid(self, x, deriv=False):\n",
    "        if deriv:\n",
    "            return x * (1-x)\n",
    "        return 1/(1+np.exp(-x))\n",
    "\n",
    "    def linear(self, x, deriv=False):\n",
    "        if deriv:\n",
    "            return np.ones_like(x)\n",
    "        return x\n",
    "    \n",
    "    def tanh(self, x, deriv=False):\n",
    "        if deriv:\n",
    "            return (1 - np.square(x))\n",
    "        else:\n",
    "            return np.tanh(x)\n",
    "\n",
    "    def forward(self, X=None):\n",
    "        if X is None:\n",
    "            X = self.X\n",
    "        self.l0 = X\n",
    "        self.l1 = self.activation0(np.dot(self.l0, self.W0))\n",
    "        self.l2 = self.activation1(np.dot(self.l1, self.W1))\n",
    "        self.output = self.activation2(np.dot(self.l2, self.W2))\n",
    "        return self.output\n",
    "\n",
    "    def backprop(self):\n",
    "        # Calculate error and deltas\n",
    "        #print(self.output)\n",
    "        o_err    = self.learning_rate * (self.y - self.output)\n",
    "        w2_delta = o_err * self.activation2(self.output, True)\n",
    "        w2_err   = np.dot(w2_delta, self.W2.T)\n",
    "        w1_delta = w2_err * self.activation1(self.l2, True)\n",
    "        w1_err   = np.dot(w1_delta, self.W1.T)\n",
    "        w0_delta = w1_err * self.activation0(self.l1, True)\n",
    "        # Apply updates to weights\n",
    "        self.W0 += np.dot(self.X.T, w0_delta)\n",
    "        self.W1 += np.dot(self.l1.T, w1_delta)\n",
    "        self.W2 += np.dot(self.l2.T, w2_delta)\n",
    "\n",
    "    def train(self, epochs = 1):\n",
    "        for i in range(epochs):\n",
    "            self.forward()\n",
    "            self.backprop()"
   ]
  },
  {
   "cell_type": "markdown",
   "metadata": {},
   "source": [
    "------"
   ]
  },
  {
   "cell_type": "markdown",
   "metadata": {},
   "source": [
    "### Read the Dataset"
   ]
  },
  {
   "cell_type": "code",
   "execution_count": 156,
   "metadata": {
    "scrolled": true
   },
   "outputs": [
    {
     "data": {
      "text/html": [
       "<div>\n",
       "<style scoped>\n",
       "    .dataframe tbody tr th:only-of-type {\n",
       "        vertical-align: middle;\n",
       "    }\n",
       "\n",
       "    .dataframe tbody tr th {\n",
       "        vertical-align: top;\n",
       "    }\n",
       "\n",
       "    .dataframe thead th {\n",
       "        text-align: right;\n",
       "    }\n",
       "</style>\n",
       "<table border=\"1\" class=\"dataframe\">\n",
       "  <thead>\n",
       "    <tr style=\"text-align: right;\">\n",
       "      <th></th>\n",
       "      <th>temperature</th>\n",
       "      <th>humidity</th>\n",
       "      <th>wind_speed</th>\n",
       "      <th>dew_point</th>\n",
       "    </tr>\n",
       "  </thead>\n",
       "  <tbody>\n",
       "    <tr>\n",
       "      <th>0</th>\n",
       "      <td>46</td>\n",
       "      <td>100</td>\n",
       "      <td>10</td>\n",
       "      <td>46</td>\n",
       "    </tr>\n",
       "    <tr>\n",
       "      <th>1</th>\n",
       "      <td>53</td>\n",
       "      <td>100</td>\n",
       "      <td>16</td>\n",
       "      <td>53</td>\n",
       "    </tr>\n",
       "    <tr>\n",
       "      <th>2</th>\n",
       "      <td>67</td>\n",
       "      <td>66</td>\n",
       "      <td>8</td>\n",
       "      <td>55</td>\n",
       "    </tr>\n",
       "    <tr>\n",
       "      <th>3</th>\n",
       "      <td>83</td>\n",
       "      <td>65</td>\n",
       "      <td>10</td>\n",
       "      <td>70</td>\n",
       "    </tr>\n",
       "    <tr>\n",
       "      <th>4</th>\n",
       "      <td>64</td>\n",
       "      <td>93</td>\n",
       "      <td>6</td>\n",
       "      <td>62</td>\n",
       "    </tr>\n",
       "  </tbody>\n",
       "</table>\n",
       "</div>"
      ],
      "text/plain": [
       "   temperature  humidity  wind_speed  dew_point\n",
       "0           46       100          10         46\n",
       "1           53       100          16         53\n",
       "2           67        66           8         55\n",
       "3           83        65          10         70\n",
       "4           64        93           6         62"
      ]
     },
     "execution_count": 156,
     "metadata": {},
     "output_type": "execute_result"
    }
   ],
   "source": [
    "df = pd.read_csv(\"sample_dewpoint_dataset.csv\")\n",
    "df.head()"
   ]
  },
  {
   "cell_type": "code",
   "execution_count": 157,
   "metadata": {},
   "outputs": [
    {
     "data": {
      "text/html": [
       "<div>\n",
       "<style scoped>\n",
       "    .dataframe tbody tr th:only-of-type {\n",
       "        vertical-align: middle;\n",
       "    }\n",
       "\n",
       "    .dataframe tbody tr th {\n",
       "        vertical-align: top;\n",
       "    }\n",
       "\n",
       "    .dataframe thead th {\n",
       "        text-align: right;\n",
       "    }\n",
       "</style>\n",
       "<table border=\"1\" class=\"dataframe\">\n",
       "  <thead>\n",
       "    <tr style=\"text-align: right;\">\n",
       "      <th></th>\n",
       "      <th>count</th>\n",
       "      <th>mean</th>\n",
       "      <th>std</th>\n",
       "      <th>min</th>\n",
       "      <th>25%</th>\n",
       "      <th>50%</th>\n",
       "      <th>75%</th>\n",
       "      <th>max</th>\n",
       "    </tr>\n",
       "  </thead>\n",
       "  <tbody>\n",
       "    <tr>\n",
       "      <th>temperature</th>\n",
       "      <td>100.0</td>\n",
       "      <td>62.32</td>\n",
       "      <td>15.863611</td>\n",
       "      <td>26.0</td>\n",
       "      <td>48.00</td>\n",
       "      <td>64.0</td>\n",
       "      <td>76.00</td>\n",
       "      <td>94.0</td>\n",
       "    </tr>\n",
       "    <tr>\n",
       "      <th>humidity</th>\n",
       "      <td>100.0</td>\n",
       "      <td>77.86</td>\n",
       "      <td>17.567774</td>\n",
       "      <td>25.0</td>\n",
       "      <td>65.00</td>\n",
       "      <td>80.0</td>\n",
       "      <td>93.00</td>\n",
       "      <td>100.0</td>\n",
       "    </tr>\n",
       "    <tr>\n",
       "      <th>wind_speed</th>\n",
       "      <td>100.0</td>\n",
       "      <td>7.81</td>\n",
       "      <td>6.091383</td>\n",
       "      <td>0.0</td>\n",
       "      <td>3.00</td>\n",
       "      <td>7.0</td>\n",
       "      <td>10.00</td>\n",
       "      <td>28.0</td>\n",
       "    </tr>\n",
       "    <tr>\n",
       "      <th>dew_point</th>\n",
       "      <td>100.0</td>\n",
       "      <td>54.46</td>\n",
       "      <td>15.673061</td>\n",
       "      <td>14.0</td>\n",
       "      <td>41.75</td>\n",
       "      <td>56.5</td>\n",
       "      <td>68.25</td>\n",
       "      <td>78.0</td>\n",
       "    </tr>\n",
       "  </tbody>\n",
       "</table>\n",
       "</div>"
      ],
      "text/plain": [
       "             count   mean        std   min    25%   50%    75%    max\n",
       "temperature  100.0  62.32  15.863611  26.0  48.00  64.0  76.00   94.0\n",
       "humidity     100.0  77.86  17.567774  25.0  65.00  80.0  93.00  100.0\n",
       "wind_speed   100.0   7.81   6.091383   0.0   3.00   7.0  10.00   28.0\n",
       "dew_point    100.0  54.46  15.673061  14.0  41.75  56.5  68.25   78.0"
      ]
     },
     "execution_count": 157,
     "metadata": {},
     "output_type": "execute_result"
    }
   ],
   "source": [
    "df.describe().T"
   ]
  },
  {
   "cell_type": "code",
   "execution_count": 158,
   "metadata": {
    "scrolled": true
   },
   "outputs": [
    {
     "data": {
      "text/html": [
       "<div>\n",
       "<style scoped>\n",
       "    .dataframe tbody tr th:only-of-type {\n",
       "        vertical-align: middle;\n",
       "    }\n",
       "\n",
       "    .dataframe tbody tr th {\n",
       "        vertical-align: top;\n",
       "    }\n",
       "\n",
       "    .dataframe thead th {\n",
       "        text-align: right;\n",
       "    }\n",
       "</style>\n",
       "<table border=\"1\" class=\"dataframe\">\n",
       "  <thead>\n",
       "    <tr style=\"text-align: right;\">\n",
       "      <th></th>\n",
       "      <th>temperature</th>\n",
       "      <th>humidity</th>\n",
       "      <th>wind_speed</th>\n",
       "      <th>dew_point</th>\n",
       "    </tr>\n",
       "  </thead>\n",
       "  <tbody>\n",
       "    <tr>\n",
       "      <th>0</th>\n",
       "      <td>-0.240000</td>\n",
       "      <td>0.295200</td>\n",
       "      <td>0.078214</td>\n",
       "      <td>-0.132188</td>\n",
       "    </tr>\n",
       "    <tr>\n",
       "      <th>1</th>\n",
       "      <td>-0.137059</td>\n",
       "      <td>0.295200</td>\n",
       "      <td>0.292500</td>\n",
       "      <td>-0.022813</td>\n",
       "    </tr>\n",
       "    <tr>\n",
       "      <th>2</th>\n",
       "      <td>0.068824</td>\n",
       "      <td>-0.158133</td>\n",
       "      <td>0.006786</td>\n",
       "      <td>0.008437</td>\n",
       "    </tr>\n",
       "    <tr>\n",
       "      <th>3</th>\n",
       "      <td>0.304118</td>\n",
       "      <td>-0.171467</td>\n",
       "      <td>0.078214</td>\n",
       "      <td>0.242812</td>\n",
       "    </tr>\n",
       "    <tr>\n",
       "      <th>4</th>\n",
       "      <td>0.024706</td>\n",
       "      <td>0.201867</td>\n",
       "      <td>-0.064643</td>\n",
       "      <td>0.117812</td>\n",
       "    </tr>\n",
       "  </tbody>\n",
       "</table>\n",
       "</div>"
      ],
      "text/plain": [
       "   temperature  humidity  wind_speed  dew_point\n",
       "0    -0.240000  0.295200    0.078214  -0.132188\n",
       "1    -0.137059  0.295200    0.292500  -0.022813\n",
       "2     0.068824 -0.158133    0.006786   0.008437\n",
       "3     0.304118 -0.171467    0.078214   0.242812\n",
       "4     0.024706  0.201867   -0.064643   0.117812"
      ]
     },
     "execution_count": 158,
     "metadata": {},
     "output_type": "execute_result"
    }
   ],
   "source": [
    "norm_df = df.apply(lambda x : (x-np.mean(x)) / (np.max(x)-np.min(x)))\n",
    "norm_df.head()"
   ]
  },
  {
   "cell_type": "markdown",
   "metadata": {},
   "source": [
    "------"
   ]
  },
  {
   "cell_type": "markdown",
   "metadata": {},
   "source": [
    "### Split Training Set and Testing Set"
   ]
  },
  {
   "cell_type": "code",
   "execution_count": 159,
   "metadata": {},
   "outputs": [],
   "source": [
    "\"\"\" Sampling without replacement \"\"\"\n",
    "def random_index(idx_range, size):\n",
    "    return np.random.choice(idx_range, size, replace=False)"
   ]
  },
  {
   "cell_type": "code",
   "execution_count": 160,
   "metadata": {},
   "outputs": [],
   "source": [
    "col = norm_df.columns\n",
    "# X, y from all data\n",
    "X = norm_df.loc[:, col[0:3]].values\n",
    "y = norm_df.loc[:, col[-1]].values\n",
    "y = np.reshape(y, (len(norm_df), 1))"
   ]
  },
  {
   "cell_type": "code",
   "execution_count": 161,
   "metadata": {},
   "outputs": [],
   "source": [
    "# pick 30% randomly\n",
    "val_idx = random_index(len(df), int(len(df)*0.3))\n",
    "norm_val = norm_df.iloc[val_idx]\n",
    "norm_df = norm_df.iloc[list(set(df.index) - set(val_idx))]"
   ]
  },
  {
   "cell_type": "code",
   "execution_count": 162,
   "metadata": {},
   "outputs": [],
   "source": [
    "# 70% for training\n",
    "X_tr = norm_df.loc[:, col[0:3]].values\n",
    "y_tr = norm_df.loc[:, col[-1]].values\n",
    "y_tr = np.reshape(y_tr, (len(norm_df), 1))\n",
    "# 30% for testing\n",
    "X_val = norm_val.loc[:, col[0:3]].values\n",
    "y_val = norm_val.loc[:, col[-1]].values\n",
    "y_val = np.reshape(y_val, (len(norm_val), 1))"
   ]
  },
  {
   "cell_type": "markdown",
   "metadata": {},
   "source": [
    "------"
   ]
  },
  {
   "cell_type": "markdown",
   "metadata": {},
   "source": [
    "### Train Neural Network"
   ]
  },
  {
   "cell_type": "code",
   "execution_count": 163,
   "metadata": {},
   "outputs": [],
   "source": [
    "from sklearn.model_selection import cross_validate\n",
    "from sklearn.model_selection import KFold"
   ]
  },
  {
   "cell_type": "code",
   "execution_count": 164,
   "metadata": {},
   "outputs": [],
   "source": [
    "\"\"\" Statistical MSE \"\"\"\n",
    "def MSE(truth, estimate):\n",
    "    return np.mean(np.square(truth-estimate))"
   ]
  },
  {
   "cell_type": "code",
   "execution_count": 165,
   "metadata": {},
   "outputs": [],
   "source": [
    "\"\"\" Cross Validation (10-fold) \"\"\"\n",
    "def NN_CV(X, y, epoch, learning_rate):\n",
    "    kf = KFold(n_splits=10)\n",
    "    cv_score = []\n",
    "    # 10 fold cross validation\n",
    "    for train, test in kf.split(X):\n",
    "        X_train, X_test, y_train, y_test = \\\n",
    "            X[train], X[test], y[train], y[test]\n",
    "        model = TwoLayerNN(X_train, y_train, learning_rate=learning_rate)\n",
    "        model.train(epoch)\n",
    "        cv_score.append(MSE(y_test, model.forward(X_test)))\n",
    "    \n",
    "    return np.mean(cv_score)"
   ]
  },
  {
   "cell_type": "code",
   "execution_count": 166,
   "metadata": {},
   "outputs": [],
   "source": [
    "\"\"\" Model Fit and Evaluation \"\"\"\n",
    "def NN_model(X, y, X_val, y_val, epoch, learning_rate):\n",
    "    model = TwoLayerNN(X, y, learning_rate=learning_rate)\n",
    "    model.train(epoch)\n",
    "    \n",
    "    return MSE(y_val, model.forward(X_val))"
   ]
  },
  {
   "cell_type": "code",
   "execution_count": 234,
   "metadata": {},
   "outputs": [],
   "source": [
    "# Learning rate 0.5 and 0.01\n",
    "cv_scores_05 = []\n",
    "cv_scores_001 = []\n",
    "val_scores_001 = []\n",
    "train_scores_001 = []\n",
    "\n",
    "# epoch 1 ~ 200 by 5 unit\n",
    "epoch = np.arange(1, 201, 2)\n",
    "\n",
    "for i in epoch:\n",
    "    # 10-fold cross validation\n",
    "    cv_scores_05.append(NN_CV(X, y, i, 0.5))\n",
    "    cv_scores_001.append(NN_CV(X, y, i, 0.01))\n",
    "    # using 70% for training and testing on 30%\n",
    "    val_scores_001.append(NN_model(X_tr, y_tr, X_val, y_val, i, 0.01))\n",
    "    # using all data and testing on 30%\n",
    "    train_scores_001.append(NN_model(X, y, X_val, y_val, i, 0.01))"
   ]
  },
  {
   "cell_type": "markdown",
   "metadata": {},
   "source": [
    "------"
   ]
  },
  {
   "cell_type": "markdown",
   "metadata": {},
   "source": [
    "### Plot and Analysis"
   ]
  },
  {
   "cell_type": "code",
   "execution_count": 235,
   "metadata": {},
   "outputs": [
    {
     "data": {
      "text/plain": [
       "<matplotlib.legend.Legend at 0x28a25c22d30>"
      ]
     },
     "execution_count": 235,
     "metadata": {},
     "output_type": "execute_result"
    },
    {
     "data": {
      "image/png": "[encoded data removed]",
      "text/plain": [
       "<Figure size 720x432 with 1 Axes>"
      ]
     },
     "metadata": {
      "needs_background": "light"
     },
     "output_type": "display_data"
    }
   ],
   "source": [
    "fig, ax = plt.subplots(figsize=(10,6))\n",
    "\n",
    "# Average 10-fold Cross Validation MSE\n",
    "ax.set_title(\"Cross Validation MSE by Epoch\", size=15)\n",
    "ax.set(xlabel=\"Epoch\", ylabel=\"MSE\")\n",
    "ax.plot(epoch, cv_scores_001, label=\"Learning Rate = 0.01\")\n",
    "ax.plot(epoch, cv_scores_05, label=\"Learning Rate = 0.5\")\n",
    "ax.legend()"
   ]
  },
  {
   "cell_type": "code",
   "execution_count": 236,
   "metadata": {},
   "outputs": [
    {
     "data": {
      "text/plain": [
       "<matplotlib.legend.Legend at 0x28a25eb16a0>"
      ]
     },
     "execution_count": 236,
     "metadata": {},
     "output_type": "execute_result"
    },
    {
     "data": {
      "image/png": "[encoded data removed]",
      "text/plain": [
       "<Figure size 720x432 with 1 Axes>"
      ]
     },
     "metadata": {
      "needs_background": "light"
     },
     "output_type": "display_data"
    }
   ],
   "source": [
    "fig, ax = plt.subplots(figsize=(10,6))\n",
    "\n",
    "# Training set and Validation set MSE\n",
    "ax.set_title(\"MSE by Epoch (Learning Rate = 0.01)\", size=15)\n",
    "ax.set(xlabel=\"Epoch\", ylabel=\"MSE\")\n",
    "ax.plot(epoch, val_scores_001, label=\"Train/Test (70/30)\")\n",
    "ax.plot(epoch, train_scores_001, label=\"Training Using All\")\n",
    "ax.legend()"
   ]
  },
  {
   "cell_type": "markdown",
   "metadata": {},
   "source": [
    "The average cross validation score is based on 10-fold, which means that 90% of the data is used for training and 10% is used for testing. The other two experiments are trained with all the data and 70% of the data, repectively, and tested with the rest of 30% unlike the cross validation's 10%. This naturally results in higher MSE due to the larger testing set size. With that in mind, the followings are findings.\n",
    "1. All of the three decrease as epoch increases. In fact, it seems like they all converge after 300 epochs.\n",
    "2. It converges earlier when learning rate is 0.01 than 0.5. This is thought to be because learning rate 0.5 is so big that the gradient decent has a difficulty in finding the optima.\n",
    "3. Training and testing on all the data is better than doing it by train/test split. This is simply due to overfitting. However, they converges to almost the same MSE at the end.\n",
    "\n",
    "------"
   ]
  },
  {
   "cell_type": "markdown",
   "metadata": {},
   "source": [
    "### Performance"
   ]
  },
  {
   "cell_type": "code",
   "execution_count": 225,
   "metadata": {},
   "outputs": [],
   "source": [
    "from sklearn.metrics import r2_score"
   ]
  },
  {
   "cell_type": "code",
   "execution_count": 202,
   "metadata": {},
   "outputs": [],
   "source": [
    "def undo_norm(col, y):\n",
    "    min_max = max(col)-min(col)\n",
    "    avg = np.mean(col)\n",
    "    # prediction in actual scale\n",
    "    pred = y.apply(lambda y : y*min_max+avg)\n",
    "    \n",
    "    return pred"
   ]
  },
  {
   "cell_type": "code",
   "execution_count": 215,
   "metadata": {},
   "outputs": [
    {
     "data": {
      "text/html": [
       "<div>\n",
       "<style scoped>\n",
       "    .dataframe tbody tr th:only-of-type {\n",
       "        vertical-align: middle;\n",
       "    }\n",
       "\n",
       "    .dataframe tbody tr th {\n",
       "        vertical-align: top;\n",
       "    }\n",
       "\n",
       "    .dataframe thead th {\n",
       "        text-align: right;\n",
       "    }\n",
       "</style>\n",
       "<table border=\"1\" class=\"dataframe\">\n",
       "  <thead>\n",
       "    <tr style=\"text-align: right;\">\n",
       "      <th></th>\n",
       "      <th>True</th>\n",
       "      <th>Predicted</th>\n",
       "      <th>Diff</th>\n",
       "    </tr>\n",
       "  </thead>\n",
       "  <tbody>\n",
       "    <tr>\n",
       "      <th>0</th>\n",
       "      <td>78</td>\n",
       "      <td>77.294647</td>\n",
       "      <td>0.705353</td>\n",
       "    </tr>\n",
       "    <tr>\n",
       "      <th>1</th>\n",
       "      <td>67</td>\n",
       "      <td>66.294697</td>\n",
       "      <td>0.705303</td>\n",
       "    </tr>\n",
       "    <tr>\n",
       "      <th>2</th>\n",
       "      <td>70</td>\n",
       "      <td>69.200156</td>\n",
       "      <td>0.799844</td>\n",
       "    </tr>\n",
       "    <tr>\n",
       "      <th>3</th>\n",
       "      <td>74</td>\n",
       "      <td>73.711745</td>\n",
       "      <td>0.288255</td>\n",
       "    </tr>\n",
       "    <tr>\n",
       "      <th>4</th>\n",
       "      <td>27</td>\n",
       "      <td>25.592489</td>\n",
       "      <td>1.407511</td>\n",
       "    </tr>\n",
       "    <tr>\n",
       "      <th>5</th>\n",
       "      <td>46</td>\n",
       "      <td>47.478336</td>\n",
       "      <td>-1.478336</td>\n",
       "    </tr>\n",
       "    <tr>\n",
       "      <th>6</th>\n",
       "      <td>31</td>\n",
       "      <td>38.551518</td>\n",
       "      <td>-7.551518</td>\n",
       "    </tr>\n",
       "    <tr>\n",
       "      <th>7</th>\n",
       "      <td>68</td>\n",
       "      <td>67.642679</td>\n",
       "      <td>0.357321</td>\n",
       "    </tr>\n",
       "    <tr>\n",
       "      <th>8</th>\n",
       "      <td>57</td>\n",
       "      <td>57.435428</td>\n",
       "      <td>-0.435428</td>\n",
       "    </tr>\n",
       "    <tr>\n",
       "      <th>9</th>\n",
       "      <td>62</td>\n",
       "      <td>62.470134</td>\n",
       "      <td>-0.470134</td>\n",
       "    </tr>\n",
       "  </tbody>\n",
       "</table>\n",
       "</div>"
      ],
      "text/plain": [
       "   True  Predicted      Diff\n",
       "0    78  77.294647  0.705353\n",
       "1    67  66.294697  0.705303\n",
       "2    70  69.200156  0.799844\n",
       "3    74  73.711745  0.288255\n",
       "4    27  25.592489  1.407511\n",
       "5    46  47.478336 -1.478336\n",
       "6    31  38.551518 -7.551518\n",
       "7    68  67.642679  0.357321\n",
       "8    57  57.435428 -0.435428\n",
       "9    62  62.470134 -0.470134"
      ]
     },
     "execution_count": 215,
     "metadata": {},
     "output_type": "execute_result"
    }
   ],
   "source": [
    "model = TwoLayerNN(X, y, activations=(\"sigmoid\", \"tanh\", \"linear\"))\n",
    "model.train(200)\n",
    "\n",
    "y_pred = np.ravel(model.forward(X_val))\n",
    "y_pred = undo_norm(df.dew_point, pd.Series(y_pred))\n",
    "y_true = pd.Series(df.loc[val_idx].dew_point).reset_index(drop=True)\n",
    "\n",
    "result = pd.DataFrame({'True': y_true, 'Predicted': y_pred})\n",
    "result['Diff'] = result['True'] - result['Predicted']\n",
    "result.head(10)"
   ]
  },
  {
   "cell_type": "code",
   "execution_count": 233,
   "metadata": {},
   "outputs": [
    {
     "name": "stdout",
     "output_type": "stream",
     "text": [
      "R-squared: 0.9898\n"
     ]
    }
   ],
   "source": [
    "print(\"R-squared:\", r2_score(result['True'], result['Predicted']).round(4))"
   ]
  }
 ],
 "metadata": {
  "kernelspec": {
   "display_name": "Python 3",
   "language": "python",
   "name": "python3"
  },
  "language_info": {
   "codemirror_mode": {
    "name": "ipython",
    "version": 3
   },
   "file_extension": ".py",
   "mimetype": "text/x-python",
   "name": "python",
   "nbconvert_exporter": "python",
   "pygments_lexer": "ipython3",
   "version": "3.6.3"
  }
 },
 "nbformat": 4,
 "nbformat_minor": 2
}

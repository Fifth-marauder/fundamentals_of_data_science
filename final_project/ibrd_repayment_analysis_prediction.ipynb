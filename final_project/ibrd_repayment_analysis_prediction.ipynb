{
 "cells": [
  {
   "cell_type": "markdown",
   "metadata": {},
   "source": [
    "# Analysis Of The IRBD Cancelled Loans and The Prediction Model\n",
    "__*Kyoosik Kim*__\n",
    "\n",
    "## Introduction\n",
    "\n",
    "\n",
    "------"
   ]
  },
  {
   "cell_type": "markdown",
   "metadata": {},
   "source": [
    "## Dataset Preparation"
   ]
  },
  {
   "cell_type": "code",
   "execution_count": 1,
   "metadata": {},
   "outputs": [
    {
     "name": "stderr",
     "output_type": "stream",
     "text": [
      "C:\\Program Files\\Python36\\lib\\site-packages\\sklearn\\ensemble\\weight_boosting.py:29: DeprecationWarning:\n",
      "\n",
      "numpy.core.umath_tests is an internal NumPy module and should not be imported. It will be removed in a future NumPy release.\n",
      "\n"
     ]
    }
   ],
   "source": [
    "# data frame\n",
    "import numpy as np\n",
    "import pandas as pd\n",
    "import scipy as sc\n",
    "pd.set_option('display.max_columns', 50)\n",
    "\n",
    "# visualization\n",
    "import matplotlib.pyplot as plt\n",
    "import seaborn as sns\n",
    "import plotly.plotly as py\n",
    "import graphviz\n",
    "\n",
    "# file system\n",
    "from sodapy import Socrata\n",
    "import os\n",
    "import pickle\n",
    "\n",
    "# data type\n",
    "from datetime import datetime\n",
    "import re\n",
    "\n",
    "# word count\n",
    "from collections import Counter\n",
    "from fuzzywuzzy import fuzz, StringMatcher\n",
    "\n",
    "# preparation for modeling\n",
    "from sklearn.utils import shuffle\n",
    "from sklearn import preprocessing as ppr\n",
    "\n",
    "# modeling\n",
    "from sklearn.naive_bayes import GaussianNB\n",
    "from sklearn import tree\n",
    "from sklearn.svm import SVC\n",
    "from sklearn.ensemble import RandomForestClassifier\n",
    "from sklearn.ensemble import GradientBoostingClassifier\n",
    "\n",
    "# model evaluation\n",
    "from sklearn.model_selection import cross_val_score\n",
    "from sklearn.metrics import *\n",
    "\n",
    "# print\n",
    "from pprint import pprint\n",
    "from IPython.core.display import HTML\n",
    "from IPython.display import IFrame"
   ]
  },
  {
   "cell_type": "code",
   "execution_count": 2,
   "metadata": {},
   "outputs": [],
   "source": [
    "\"\"\"\n",
    "Set up a socrata client\n",
    "Return the client and the meta data\n",
    "\"\"\"\n",
    "def client_setup(source, token, _id, _pw, file_code):\n",
    "    client = Socrata(source, \n",
    "                 token, \n",
    "                 username=_id,\n",
    "                 password=_pw)\n",
    "    \n",
    "    # id and password are not required\n",
    "    # comment the above and comment out the code below\n",
    "    # \n",
    "    # client = Socrata(source, None)\n",
    "    \n",
    "    meta_data = client.get_metadata(file_code)\n",
    "    \n",
    "    return client, meta_data\n",
    "\n",
    "\n",
    "\"\"\"\n",
    "Send a request via Socrata API with Query options\n",
    "Pickle the result from the request and read it in DataFrame\n",
    "Skip the process if the target file already exists\n",
    "\"\"\"\n",
    "def file_download(client, file_code, file_name, api_query):    \n",
    "    # request only if the file does not exist\n",
    "    if not os.path.isfile(file_name):\n",
    "        results = client.get(file_code, \n",
    "                             where=api_query, \n",
    "                             limit=1000000) # supercede default = 1000\n",
    "        # raw file to pickle file\n",
    "        outfile = open(file_name, 'wb')\n",
    "        pickle.dump(results, outfile)\n",
    "        outfile.close()\n",
    "\n",
    "    # from pickle file to data frame\n",
    "    infile = open(file_name, 'rb')\n",
    "    ibrd_dict = pickle.load(infile)\n",
    "    ibrd_df = pd.DataFrame.from_records(ibrd_dict)\n",
    "    infile.close()\n",
    "    \n",
    "    return ibrd_df"
   ]
  },
  {
   "cell_type": "markdown",
   "metadata": {},
   "source": [
    "<br/>\n",
    "\n",
    "### &bull; Meta Data"
   ]
  },
  {
   "cell_type": "code",
   "execution_count": 3,
   "metadata": {},
   "outputs": [],
   "source": [
    "source = \"finances.worldbank.org\"\n",
    "token = \"your_token\"\n",
    "_id = \"your_id\"\n",
    "_pw = \"your_pw\"\n",
    "file_code = \"x433-52wt\"\n",
    "\n",
    "client, meta_data = client_setup(source, token, _id, _pw, file_code)"
   ]
  },
  {
   "cell_type": "code",
   "execution_count": 4,
   "metadata": {
    "scrolled": true
   },
   "outputs": [
    {
     "name": "stdout",
     "output_type": "stream",
     "text": [
      "dict_keys(['id', 'name', 'attribution', 'attributionLink', 'averageRating', 'category', 'createdAt', 'description', 'displayType', 'downloadCount', 'hideFromCatalog', 'hideFromDataJson', 'indexUpdatedAt', 'licenseId', 'newBackend', 'numberOfComments', 'oid', 'provenance', 'publicationAppendEnabled', 'publicationDate', 'publicationGroup', 'publicationStage', 'rowsUpdatedAt', 'rowsUpdatedBy', 'tableId', 'totalTimesRated', 'viewCount', 'viewLastModified', 'viewType', 'columns', 'grants', 'license', 'metadata', 'owner', 'query', 'rights', 'tableAuthor', 'tags', 'flags'])\n"
     ]
    }
   ],
   "source": [
    "print(meta_data.keys())"
   ]
  },
  {
   "cell_type": "code",
   "execution_count": 5,
   "metadata": {
    "scrolled": false
   },
   "outputs": [
    {
     "name": "stdout",
     "output_type": "stream",
     "text": [
      "The International Bank for Reconstruction and Development (IBRD) loans are public and publicly guaranteed debt extended by the World Bank Group. IBRD loans are made to, or guaranteed by, countries that are members of IBRD. IBRD may also make loans to IFC. IBRD lends at market rates. Data are in U.S. dollars calculated using historical rates. This dataset contains historical snapshots of the Statement of Loans including the latest available snapshots. The World Bank complies with all sanctions applicable to World Bank transactions.\n"
     ]
    }
   ],
   "source": [
    "print(meta_data['description'])"
   ]
  },
  {
   "cell_type": "code",
   "execution_count": 6,
   "metadata": {},
   "outputs": [
    {
     "name": "stdout",
     "output_type": "stream",
     "text": [
      "[{'count': '372042', 'item': 'Repaid'},\n",
      " {'count': '152518', 'item': 'Fully Repaid'},\n",
      " {'count': '81096', 'item': 'Disbursed'},\n",
      " {'count': '48498', 'item': 'Disbursing'},\n",
      " {'count': '24597', 'item': 'Repaying'},\n",
      " {'count': '19267', 'item': 'Cancelled'},\n",
      " {'count': '12162', 'item': ' Repaid '},\n",
      " {'count': '7788', 'item': 'Fully Cancelled'},\n",
      " {'count': '6967', 'item': 'Fully Disbursed'},\n",
      " {'count': '5250', 'item': 'Fully Transferred'},\n",
      " {'count': '3638', 'item': 'Terminated'},\n",
      " {'count': '3358', 'item': 'Approved'},\n",
      " {'count': '3154', 'item': 'Disbursing&Repaying'},\n",
      " {'count': '2728', 'item': 'Effective'},\n",
      " {'count': '2539', 'item': 'Signed'},\n",
      " {'count': '2309', 'item': ' Disbursed '},\n",
      " {'count': '995', 'item': ' Disbursing '},\n",
      " {'count': '565', 'item': ' Cancelled '},\n",
      " {'count': '71', 'item': ' Terminated '},\n",
      " {'count': '62', 'item': ' Approved '}]\n"
     ]
    }
   ],
   "source": [
    "ind_var = next(field for field in meta_data['columns'] \n",
    "               if field['fieldName'] == \"loan_status\")\n",
    "pprint(ind_var['cachedContents']['top'])"
   ]
  },
  {
   "cell_type": "markdown",
   "metadata": {},
   "source": [
    "<br/>\n",
    "\n",
    "### &bull; Dataset Load"
   ]
  },
  {
   "cell_type": "code",
   "execution_count": 7,
   "metadata": {},
   "outputs": [],
   "source": [
    "api_query = \"(loan_status='Repaid' or loan_status='Cancelled') and \\\n",
    "            closed_date_most_recent_ > '1980-01-01T00:00:00.000'\"\n",
    "ibrd_df = file_download(client, \"x433-52wt\", \"ibrd_file\", api_query)"
   ]
  },
  {
   "cell_type": "code",
   "execution_count": 8,
   "metadata": {},
   "outputs": [
    {
     "data": {
      "text/plain": [
       "(326674, 32)"
      ]
     },
     "execution_count": 8,
     "metadata": {},
     "output_type": "execute_result"
    }
   ],
   "source": [
    "ibrd_df.shape"
   ]
  },
  {
   "cell_type": "code",
   "execution_count": 9,
   "metadata": {},
   "outputs": [
    {
     "data": {
      "text/html": [
       "<div>\n",
       "<style scoped>\n",
       "    .dataframe tbody tr th:only-of-type {\n",
       "        vertical-align: middle;\n",
       "    }\n",
       "\n",
       "    .dataframe tbody tr th {\n",
       "        vertical-align: top;\n",
       "    }\n",
       "\n",
       "    .dataframe thead th {\n",
       "        text-align: right;\n",
       "    }\n",
       "</style>\n",
       "<table border=\"1\" class=\"dataframe\">\n",
       "  <thead>\n",
       "    <tr style=\"text-align: right;\">\n",
       "      <th></th>\n",
       "      <th>agreement_signing_date</th>\n",
       "      <th>board_approval_date</th>\n",
       "      <th>borrower</th>\n",
       "      <th>borrower_s_obligation</th>\n",
       "      <th>cancelled_amount</th>\n",
       "      <th>closed_date_most_recent_</th>\n",
       "      <th>country</th>\n",
       "      <th>country_code</th>\n",
       "      <th>disbursed_amount</th>\n",
       "      <th>due_3rd_party</th>\n",
       "      <th>due_to_ibrd</th>\n",
       "      <th>effective_date_most_recent_</th>\n",
       "      <th>end_of_period</th>\n",
       "      <th>exchange_adjustment</th>\n",
       "      <th>first_repayment_date</th>\n",
       "      <th>guarantor</th>\n",
       "      <th>guarantor_country_code</th>\n",
       "      <th>interest_rate</th>\n",
       "      <th>last_disbursement_date</th>\n",
       "      <th>last_repayment_date</th>\n",
       "      <th>loan_number</th>\n",
       "      <th>loan_status</th>\n",
       "      <th>loan_type</th>\n",
       "      <th>loans_held</th>\n",
       "      <th>original_principal_amount</th>\n",
       "      <th>project_id</th>\n",
       "      <th>project_name_</th>\n",
       "      <th>region</th>\n",
       "      <th>repaid_3rd_party</th>\n",
       "      <th>repaid_to_ibrd</th>\n",
       "      <th>sold_3rd_party</th>\n",
       "      <th>undisbursed_amount</th>\n",
       "    </tr>\n",
       "  </thead>\n",
       "  <tbody>\n",
       "    <tr>\n",
       "      <th>0</th>\n",
       "      <td>1998-01-12T00:00:00.000</td>\n",
       "      <td>1998-01-12T00:00:00.000</td>\n",
       "      <td>INTERNATIONAL FINANCE CORPORATION</td>\n",
       "      <td>0.00</td>\n",
       "      <td>0.00</td>\n",
       "      <td>1998-06-30T00:00:00.000</td>\n",
       "      <td>World</td>\n",
       "      <td>1W</td>\n",
       "      <td>5000000.00</td>\n",
       "      <td>0.00</td>\n",
       "      <td>0.00</td>\n",
       "      <td>1998-01-12T00:00:00.000</td>\n",
       "      <td>2015-01-31T00:00:00.000</td>\n",
       "      <td>0.00</td>\n",
       "      <td>1999-12-15T00:00:00.000</td>\n",
       "      <td>World</td>\n",
       "      <td>1W</td>\n",
       "      <td>5.56</td>\n",
       "      <td>NaN</td>\n",
       "      <td>2006-06-15T00:00:00.000</td>\n",
       "      <td>IBRDM2405</td>\n",
       "      <td>Repaid</td>\n",
       "      <td>IFC LOAN</td>\n",
       "      <td>0.00</td>\n",
       "      <td>5000000.00</td>\n",
       "      <td>NaN</td>\n",
       "      <td>NaN</td>\n",
       "      <td>Other</td>\n",
       "      <td>0.00</td>\n",
       "      <td>5000000.00</td>\n",
       "      <td>0.00</td>\n",
       "      <td>0.00</td>\n",
       "    </tr>\n",
       "    <tr>\n",
       "      <th>1</th>\n",
       "      <td>1998-01-12T00:00:00.000</td>\n",
       "      <td>1998-01-12T00:00:00.000</td>\n",
       "      <td>INTERNATIONAL FINANCE CORPORATION</td>\n",
       "      <td>0.00</td>\n",
       "      <td>0.00</td>\n",
       "      <td>1998-06-30T00:00:00.000</td>\n",
       "      <td>World</td>\n",
       "      <td>1W</td>\n",
       "      <td>4000000.00</td>\n",
       "      <td>0.00</td>\n",
       "      <td>0.00</td>\n",
       "      <td>1998-01-12T00:00:00.000</td>\n",
       "      <td>2015-01-31T00:00:00.000</td>\n",
       "      <td>0.00</td>\n",
       "      <td>2000-07-15T00:00:00.000</td>\n",
       "      <td>World</td>\n",
       "      <td>1W</td>\n",
       "      <td>5.58</td>\n",
       "      <td>NaN</td>\n",
       "      <td>2009-01-15T00:00:00.000</td>\n",
       "      <td>IBRDM2406</td>\n",
       "      <td>Repaid</td>\n",
       "      <td>IFC LOAN</td>\n",
       "      <td>0.00</td>\n",
       "      <td>4000000.00</td>\n",
       "      <td>NaN</td>\n",
       "      <td>NaN</td>\n",
       "      <td>Other</td>\n",
       "      <td>0.00</td>\n",
       "      <td>4000000.00</td>\n",
       "      <td>0.00</td>\n",
       "      <td>0.00</td>\n",
       "    </tr>\n",
       "    <tr>\n",
       "      <th>2</th>\n",
       "      <td>1985-11-19T00:00:00.000</td>\n",
       "      <td>1985-11-19T00:00:00.000</td>\n",
       "      <td>INTERNATIONAL FINANCE CORPORATION</td>\n",
       "      <td>0.00</td>\n",
       "      <td>1200000.00</td>\n",
       "      <td>1991-09-15T00:00:00.000</td>\n",
       "      <td>World</td>\n",
       "      <td>1W</td>\n",
       "      <td>0.00</td>\n",
       "      <td>0.00</td>\n",
       "      <td>0.00</td>\n",
       "      <td>1985-11-19T00:00:00.000</td>\n",
       "      <td>2015-01-31T00:00:00.000</td>\n",
       "      <td>0.00</td>\n",
       "      <td>1989-11-15T00:00:00.000</td>\n",
       "      <td>World</td>\n",
       "      <td>1W</td>\n",
       "      <td>10.65</td>\n",
       "      <td>NaN</td>\n",
       "      <td>2000-05-15T00:00:00.000</td>\n",
       "      <td>IBRDM1105</td>\n",
       "      <td>Cancelled</td>\n",
       "      <td>IFC LOAN</td>\n",
       "      <td>0.00</td>\n",
       "      <td>1200000.00</td>\n",
       "      <td>NaN</td>\n",
       "      <td>NaN</td>\n",
       "      <td>Other</td>\n",
       "      <td>0.00</td>\n",
       "      <td>0.00</td>\n",
       "      <td>0.00</td>\n",
       "      <td>0.00</td>\n",
       "    </tr>\n",
       "    <tr>\n",
       "      <th>3</th>\n",
       "      <td>1985-12-05T00:00:00.000</td>\n",
       "      <td>1985-12-05T00:00:00.000</td>\n",
       "      <td>INTERNATIONAL FINANCE CORPORATION</td>\n",
       "      <td>0.00</td>\n",
       "      <td>10000000.00</td>\n",
       "      <td>1991-09-15T00:00:00.000</td>\n",
       "      <td>World</td>\n",
       "      <td>1W</td>\n",
       "      <td>0.00</td>\n",
       "      <td>0.00</td>\n",
       "      <td>0.00</td>\n",
       "      <td>1985-12-05T00:00:00.000</td>\n",
       "      <td>2015-01-31T00:00:00.000</td>\n",
       "      <td>0.00</td>\n",
       "      <td>1989-12-01T00:00:00.000</td>\n",
       "      <td>World</td>\n",
       "      <td>1W</td>\n",
       "      <td>10.65</td>\n",
       "      <td>NaN</td>\n",
       "      <td>2000-06-01T00:00:00.000</td>\n",
       "      <td>IBRDM1106</td>\n",
       "      <td>Cancelled</td>\n",
       "      <td>IFC LOAN</td>\n",
       "      <td>0.00</td>\n",
       "      <td>10000000.00</td>\n",
       "      <td>NaN</td>\n",
       "      <td>NaN</td>\n",
       "      <td>Other</td>\n",
       "      <td>0.00</td>\n",
       "      <td>0.00</td>\n",
       "      <td>0.00</td>\n",
       "      <td>0.00</td>\n",
       "    </tr>\n",
       "    <tr>\n",
       "      <th>4</th>\n",
       "      <td>2005-08-02T00:00:00.000</td>\n",
       "      <td>2005-05-17T00:00:00.000</td>\n",
       "      <td>Ministry of Finance</td>\n",
       "      <td>0.00</td>\n",
       "      <td>0.00</td>\n",
       "      <td>2011-03-31T00:00:00.000</td>\n",
       "      <td>Indonesia</td>\n",
       "      <td>ID</td>\n",
       "      <td>0.00</td>\n",
       "      <td>0.00</td>\n",
       "      <td>0.00</td>\n",
       "      <td>2005-10-28T00:00:00.000</td>\n",
       "      <td>2015-01-31T00:00:00.000</td>\n",
       "      <td>0.00</td>\n",
       "      <td>2010-11-15T00:00:00.000</td>\n",
       "      <td>Indonesia</td>\n",
       "      <td>ID</td>\n",
       "      <td>0.93</td>\n",
       "      <td>2009-07-06T00:00:00.000</td>\n",
       "      <td>2025-05-15T00:00:00.000</td>\n",
       "      <td>IBRD47790</td>\n",
       "      <td>Repaid</td>\n",
       "      <td>SNGL CRNCY</td>\n",
       "      <td>0.00</td>\n",
       "      <td>67300000.00</td>\n",
       "      <td>P084583</td>\n",
       "      <td>ID-UPP3</td>\n",
       "      <td>East Asia and Pacific</td>\n",
       "      <td>0.00</td>\n",
       "      <td>0.00</td>\n",
       "      <td>0.00</td>\n",
       "      <td>0.00</td>\n",
       "    </tr>\n",
       "  </tbody>\n",
       "</table>\n",
       "</div>"
      ],
      "text/plain": [
       "    agreement_signing_date      board_approval_date  \\\n",
       "0  1998-01-12T00:00:00.000  1998-01-12T00:00:00.000   \n",
       "1  1998-01-12T00:00:00.000  1998-01-12T00:00:00.000   \n",
       "2  1985-11-19T00:00:00.000  1985-11-19T00:00:00.000   \n",
       "3  1985-12-05T00:00:00.000  1985-12-05T00:00:00.000   \n",
       "4  2005-08-02T00:00:00.000  2005-05-17T00:00:00.000   \n",
       "\n",
       "                            borrower borrower_s_obligation cancelled_amount  \\\n",
       "0  INTERNATIONAL FINANCE CORPORATION                  0.00             0.00   \n",
       "1  INTERNATIONAL FINANCE CORPORATION                  0.00             0.00   \n",
       "2  INTERNATIONAL FINANCE CORPORATION                  0.00       1200000.00   \n",
       "3  INTERNATIONAL FINANCE CORPORATION                  0.00      10000000.00   \n",
       "4                Ministry of Finance                  0.00             0.00   \n",
       "\n",
       "  closed_date_most_recent_    country country_code disbursed_amount  \\\n",
       "0  1998-06-30T00:00:00.000      World           1W       5000000.00   \n",
       "1  1998-06-30T00:00:00.000      World           1W       4000000.00   \n",
       "2  1991-09-15T00:00:00.000      World           1W             0.00   \n",
       "3  1991-09-15T00:00:00.000      World           1W             0.00   \n",
       "4  2011-03-31T00:00:00.000  Indonesia           ID             0.00   \n",
       "\n",
       "  due_3rd_party due_to_ibrd effective_date_most_recent_  \\\n",
       "0          0.00        0.00     1998-01-12T00:00:00.000   \n",
       "1          0.00        0.00     1998-01-12T00:00:00.000   \n",
       "2          0.00        0.00     1985-11-19T00:00:00.000   \n",
       "3          0.00        0.00     1985-12-05T00:00:00.000   \n",
       "4          0.00        0.00     2005-10-28T00:00:00.000   \n",
       "\n",
       "             end_of_period exchange_adjustment     first_repayment_date  \\\n",
       "0  2015-01-31T00:00:00.000                0.00  1999-12-15T00:00:00.000   \n",
       "1  2015-01-31T00:00:00.000                0.00  2000-07-15T00:00:00.000   \n",
       "2  2015-01-31T00:00:00.000                0.00  1989-11-15T00:00:00.000   \n",
       "3  2015-01-31T00:00:00.000                0.00  1989-12-01T00:00:00.000   \n",
       "4  2015-01-31T00:00:00.000                0.00  2010-11-15T00:00:00.000   \n",
       "\n",
       "   guarantor guarantor_country_code interest_rate   last_disbursement_date  \\\n",
       "0      World                     1W          5.56                      NaN   \n",
       "1      World                     1W          5.58                      NaN   \n",
       "2      World                     1W         10.65                      NaN   \n",
       "3      World                     1W         10.65                      NaN   \n",
       "4  Indonesia                     ID          0.93  2009-07-06T00:00:00.000   \n",
       "\n",
       "       last_repayment_date loan_number loan_status   loan_type loans_held  \\\n",
       "0  2006-06-15T00:00:00.000   IBRDM2405      Repaid    IFC LOAN       0.00   \n",
       "1  2009-01-15T00:00:00.000   IBRDM2406      Repaid    IFC LOAN       0.00   \n",
       "2  2000-05-15T00:00:00.000   IBRDM1105   Cancelled    IFC LOAN       0.00   \n",
       "3  2000-06-01T00:00:00.000   IBRDM1106   Cancelled    IFC LOAN       0.00   \n",
       "4  2025-05-15T00:00:00.000   IBRD47790      Repaid  SNGL CRNCY       0.00   \n",
       "\n",
       "  original_principal_amount project_id project_name_                 region  \\\n",
       "0                5000000.00        NaN           NaN                  Other   \n",
       "1                4000000.00        NaN           NaN                  Other   \n",
       "2                1200000.00        NaN           NaN                  Other   \n",
       "3               10000000.00        NaN           NaN                  Other   \n",
       "4               67300000.00    P084583       ID-UPP3  East Asia and Pacific   \n",
       "\n",
       "  repaid_3rd_party repaid_to_ibrd sold_3rd_party undisbursed_amount  \n",
       "0             0.00     5000000.00           0.00               0.00  \n",
       "1             0.00     4000000.00           0.00               0.00  \n",
       "2             0.00           0.00           0.00               0.00  \n",
       "3             0.00           0.00           0.00               0.00  \n",
       "4             0.00           0.00           0.00               0.00  "
      ]
     },
     "execution_count": 9,
     "metadata": {},
     "output_type": "execute_result"
    }
   ],
   "source": [
    "ibrd_df.head()"
   ]
  },
  {
   "cell_type": "code",
   "execution_count": 10,
   "metadata": {},
   "outputs": [
    {
     "data": {
      "text/plain": [
       "Repaid       308536\n",
       "Cancelled     18138\n",
       "Name: loan_status, dtype: int64"
      ]
     },
     "execution_count": 10,
     "metadata": {},
     "output_type": "execute_result"
    }
   ],
   "source": [
    "ibrd_df['loan_status'].value_counts()"
   ]
  },
  {
   "cell_type": "markdown",
   "metadata": {},
   "source": [
    "\n",
    "------"
   ]
  },
  {
   "cell_type": "markdown",
   "metadata": {},
   "source": [
    "<br/>\n",
    "\n",
    "## Column Processing"
   ]
  },
  {
   "cell_type": "code",
   "execution_count": 11,
   "metadata": {
    "scrolled": false
   },
   "outputs": [
    {
     "name": "stdout",
     "output_type": "stream",
     "text": [
      "<class 'pandas.core.frame.DataFrame'>\n",
      "RangeIndex: 326674 entries, 0 to 326673\n",
      "Columns: 32 entries, agreement_signing_date to undisbursed_amount\n",
      "dtypes: object(32)\n",
      "memory usage: 79.8+ MB\n"
     ]
    }
   ],
   "source": [
    "ibrd_df.info(verbose=False)"
   ]
  },
  {
   "cell_type": "markdown",
   "metadata": {},
   "source": [
    "<br/>\n",
    "\n",
    "### &bull; Null Values"
   ]
  },
  {
   "cell_type": "code",
   "execution_count": 12,
   "metadata": {},
   "outputs": [],
   "source": [
    "def null_by_class(df, col):\n",
    "    print(\"<'\" + col + \"' null values by class>\")\n",
    "    print(\"Number of null values with 'Repaid':\",\n",
    "      (df[df['loan_status']=='Repaid'][col].isnull()).sum())\n",
    "    print(\"Number of null values with 'Cancelled':\",\n",
    "      (df[df['loan_status']=='Cancelled'][col].isnull()).sum())\n",
    "    \n",
    "def print_null_col(df):\n",
    "    print(\"<Columns with null values>\")\n",
    "    pprint(list(df.columns[df.isnull().any()]))"
   ]
  },
  {
   "cell_type": "code",
   "execution_count": 13,
   "metadata": {
    "scrolled": true
   },
   "outputs": [
    {
     "name": "stdout",
     "output_type": "stream",
     "text": [
      "<Columns with null values>\n",
      "['agreement_signing_date',\n",
      " 'borrower',\n",
      " 'first_repayment_date',\n",
      " 'guarantor',\n",
      " 'guarantor_country_code',\n",
      " 'interest_rate',\n",
      " 'last_disbursement_date',\n",
      " 'last_repayment_date',\n",
      " 'project_id',\n",
      " 'project_name_']\n"
     ]
    }
   ],
   "source": [
    "print_null_col(ibrd_df)"
   ]
  },
  {
   "cell_type": "code",
   "execution_count": 14,
   "metadata": {},
   "outputs": [
    {
     "name": "stdout",
     "output_type": "stream",
     "text": [
      "<'project_name_' null values by class>\n",
      "Number of null values with 'Repaid': 12892\n",
      "Number of null values with 'Cancelled': 7387\n"
     ]
    }
   ],
   "source": [
    "null_by_class(ibrd_df, 'project_name_')"
   ]
  },
  {
   "cell_type": "code",
   "execution_count": 15,
   "metadata": {},
   "outputs": [
    {
     "name": "stdout",
     "output_type": "stream",
     "text": [
      "(306395, 32)\n"
     ]
    }
   ],
   "source": [
    "ibrd_df.dropna(subset=['project_name_'], inplace=True)\n",
    "print(ibrd_df.shape)"
   ]
  },
  {
   "cell_type": "markdown",
   "metadata": {},
   "source": [
    "<br/>\n",
    "\n",
    "__Agreement Signing Date__"
   ]
  },
  {
   "cell_type": "code",
   "execution_count": 16,
   "metadata": {},
   "outputs": [
    {
     "name": "stdout",
     "output_type": "stream",
     "text": [
      "<Columns with null values>\n",
      "['agreement_signing_date',\n",
      " 'borrower',\n",
      " 'guarantor',\n",
      " 'guarantor_country_code',\n",
      " 'interest_rate',\n",
      " 'last_disbursement_date']\n"
     ]
    }
   ],
   "source": [
    "print_null_col(ibrd_df)"
   ]
  },
  {
   "cell_type": "code",
   "execution_count": 17,
   "metadata": {},
   "outputs": [
    {
     "name": "stdout",
     "output_type": "stream",
     "text": [
      "<'agreement_signing_date' null values by class>\n",
      "Number of null values with 'Repaid': 315\n",
      "Number of null values with 'Cancelled': 1406\n"
     ]
    }
   ],
   "source": [
    "null_by_class(ibrd_df, 'agreement_signing_date')"
   ]
  },
  {
   "cell_type": "code",
   "execution_count": 18,
   "metadata": {},
   "outputs": [
    {
     "name": "stdout",
     "output_type": "stream",
     "text": [
      "(304674, 32)\n"
     ]
    }
   ],
   "source": [
    "ibrd_df.dropna(subset=['agreement_signing_date'], inplace=True)\n",
    "print(ibrd_df.shape)"
   ]
  },
  {
   "cell_type": "markdown",
   "metadata": {},
   "source": [
    "<br/>\n",
    "\n",
    "__Guarantor__"
   ]
  },
  {
   "cell_type": "code",
   "execution_count": 19,
   "metadata": {},
   "outputs": [
    {
     "name": "stdout",
     "output_type": "stream",
     "text": [
      "<Columns with null values>\n",
      "['borrower',\n",
      " 'guarantor',\n",
      " 'guarantor_country_code',\n",
      " 'interest_rate',\n",
      " 'last_disbursement_date']\n"
     ]
    }
   ],
   "source": [
    "print_null_col(ibrd_df)"
   ]
  },
  {
   "cell_type": "code",
   "execution_count": 20,
   "metadata": {
    "scrolled": false
   },
   "outputs": [
    {
     "name": "stdout",
     "output_type": "stream",
     "text": [
      "Number of the countries guaranted by another country: 20944\n",
      "\n",
      "<Top 5 countries with another country as a guarantor>\n",
      "Portugal              1792\n",
      "Indonesia             1419\n",
      "Yugoslavia, former    1152\n",
      "Oman                   960\n",
      "Barbados               880\n",
      "Mexico                 807\n",
      "Brazil                 759\n",
      "Greece                 706\n",
      "Turkey                 604\n",
      "Morocco                519\n",
      "Name: country, dtype: int64\n"
     ]
    }
   ],
   "source": [
    "diff_guarantor_df = (ibrd_df[ibrd_df['guarantor'] != ibrd_df['country']])\n",
    "diff_guarantor_countries = diff_guarantor_df['country'].value_counts()\n",
    "\n",
    "print(\"Number of the countries guaranted by another country:\", len(diff_guarantor_df))\n",
    "print(\"\\n<Top 5 countries with another country as a guarantor>\")\n",
    "print(diff_guarantor_countries[:10])"
   ]
  },
  {
   "cell_type": "code",
   "execution_count": 21,
   "metadata": {},
   "outputs": [
    {
     "name": "stdout",
     "output_type": "stream",
     "text": [
      "Barbados : Caribbean    829\n",
      "Name: guarantor, dtype: int64 \n",
      "\n",
      "Western Africa : Cote d'Ivoire    61\n",
      "Name: guarantor, dtype: int64 \n",
      "\n",
      "Caribbean : Barbados    96\n",
      "Name: guarantor, dtype: int64 \n",
      "\n"
     ]
    }
   ],
   "source": [
    "def guarantors_count(df, countries):\n",
    "    for country in countries:\n",
    "        vc = df[df['country'] == country]['guarantor'].value_counts()\n",
    "        if vc.tolist(): # if not null\n",
    "            print(country, \":\" , vc, '\\n')\n",
    "            \n",
    "guarantors_count(diff_guarantor_df, diff_guarantor_countries.keys())"
   ]
  },
  {
   "cell_type": "code",
   "execution_count": 22,
   "metadata": {},
   "outputs": [
    {
     "name": "stdout",
     "output_type": "stream",
     "text": [
      "(304674, 30)\n"
     ]
    }
   ],
   "source": [
    "ibrd_df.drop(columns=['guarantor', 'guarantor_country_code'], inplace=True)\n",
    "print(ibrd_df.shape)"
   ]
  },
  {
   "cell_type": "markdown",
   "metadata": {},
   "source": [
    "<br/>\n",
    "\n",
    "__Interest Rate__"
   ]
  },
  {
   "cell_type": "code",
   "execution_count": 23,
   "metadata": {
    "scrolled": true
   },
   "outputs": [
    {
     "name": "stdout",
     "output_type": "stream",
     "text": [
      "<'interest_rate' null values by class>\n",
      "Number of null values with 'Repaid': 2841\n",
      "Number of null values with 'Cancelled': 293\n"
     ]
    }
   ],
   "source": [
    "null_by_class(ibrd_df, 'interest_rate')"
   ]
  },
  {
   "cell_type": "code",
   "execution_count": 24,
   "metadata": {},
   "outputs": [],
   "source": [
    "# calculate mean interest rates by country\n",
    "ibrd_df['interest_rate'] = ibrd_df['interest_rate'].astype(float)\n",
    "country_interest = ibrd_df.groupby(['country'])['interest_rate'].mean()\n",
    "country_interest = country_interest.to_dict()\n",
    "\n",
    "# fill nan with country's mean interest rate\n",
    "ibrd_df['interest_rate'] = ibrd_df.apply(lambda x : x['interest_rate'] if not np.isnan(x['interest_rate'])\n",
    "                                         else country_interest.get(x['country']), axis=1)"
   ]
  },
  {
   "cell_type": "markdown",
   "metadata": {},
   "source": [
    "<br/>\n",
    "\n",
    "__Last Disbursement Date__"
   ]
  },
  {
   "cell_type": "code",
   "execution_count": 25,
   "metadata": {
    "scrolled": true
   },
   "outputs": [
    {
     "name": "stdout",
     "output_type": "stream",
     "text": [
      "<'last_disbursement_date' null values by class>\n",
      "Number of null values with 'Repaid': 119654\n",
      "Number of null values with 'Cancelled': 8579\n"
     ]
    }
   ],
   "source": [
    "null_by_class(ibrd_df, 'last_disbursement_date')"
   ]
  },
  {
   "cell_type": "code",
   "execution_count": 26,
   "metadata": {},
   "outputs": [
    {
     "name": "stdout",
     "output_type": "stream",
     "text": [
      "Any Cancelled Loan with Disbursement: 0\n"
     ]
    }
   ],
   "source": [
    "print(\"Any Cancelled Loan with Disbursement:\",\n",
    "      (ibrd_df[ibrd_df['loan_status'] == 'Cancelled']['disbursed_amount'] != \"0.00\").sum())"
   ]
  },
  {
   "cell_type": "code",
   "execution_count": 27,
   "metadata": {},
   "outputs": [
    {
     "name": "stdout",
     "output_type": "stream",
     "text": [
      "(304674, 29)\n"
     ]
    }
   ],
   "source": [
    "ibrd_df.drop(columns=['last_disbursement_date'], inplace=True)\n",
    "print(ibrd_df.shape)"
   ]
  },
  {
   "cell_type": "markdown",
   "metadata": {},
   "source": [
    "<br/>\n",
    "\n",
    "### &bull; Variable Drop and Type Conversion"
   ]
  },
  {
   "cell_type": "code",
   "execution_count": 28,
   "metadata": {},
   "outputs": [
    {
     "name": "stdout",
     "output_type": "stream",
     "text": [
      "(304674, 18)\n"
     ]
    }
   ],
   "source": [
    "ibrd_df.drop(columns=['borrower_s_obligation', 'cancelled_amount', 'disbursed_amount', \n",
    "                      'due_3rd_party', 'due_to_ibrd', 'exchange_adjustment', 'loans_held',\n",
    "                      'repaid_3rd_party', 'repaid_to_ibrd', 'sold_3rd_party', 'undisbursed_amount'], inplace=True)\n",
    "print(ibrd_df.shape)"
   ]
  },
  {
   "cell_type": "code",
   "execution_count": 29,
   "metadata": {},
   "outputs": [],
   "source": [
    "\"\"\"\n",
    "Convert variables to float or datetime\n",
    "Or leave it as object type as given in raw dataset\n",
    "\"\"\"\n",
    "def type_convertor(df):\n",
    "    numbers = 'amount|repaid|due|sold|held|adjustment|obligation'\n",
    "    times = 'date|period'\n",
    "    for col in df.columns:\n",
    "        if re.search(numbers, str(col)):\n",
    "            df[col] = df[col].astype(float)\n",
    "        elif re.search(times, str(col)):\n",
    "            df[col] = df[col].apply(lambda t : datetime.strptime(t[:10], '%Y-%m-%d'))\n",
    "        \n",
    "type_convertor(ibrd_df)\n",
    "# loan type is more of categorical\n",
    "ibrd_df['loan_type'] = ibrd_df['loan_type'].astype('category')\n",
    "# cancelled = 1, the rest = 0\n",
    "ibrd_df['loan_status'] = (ibrd_df['loan_status']=='Cancelled').astype(int)"
   ]
  },
  {
   "cell_type": "code",
   "execution_count": 30,
   "metadata": {
    "scrolled": true
   },
   "outputs": [
    {
     "name": "stdout",
     "output_type": "stream",
     "text": [
      "<class 'pandas.core.frame.DataFrame'>\n",
      "Int64Index: 304674 entries, 4 to 326673\n",
      "Data columns (total 18 columns):\n",
      "agreement_signing_date         304674 non-null datetime64[ns]\n",
      "board_approval_date            304674 non-null datetime64[ns]\n",
      "borrower                       304610 non-null object\n",
      "closed_date_most_recent_       304674 non-null datetime64[ns]\n",
      "country                        304674 non-null object\n",
      "country_code                   304674 non-null object\n",
      "effective_date_most_recent_    304674 non-null datetime64[ns]\n",
      "end_of_period                  304674 non-null datetime64[ns]\n",
      "first_repayment_date           304674 non-null datetime64[ns]\n",
      "interest_rate                  304674 non-null float64\n",
      "last_repayment_date            304674 non-null datetime64[ns]\n",
      "loan_number                    304674 non-null object\n",
      "loan_status                    304674 non-null int32\n",
      "loan_type                      304674 non-null category\n",
      "original_principal_amount      304674 non-null float64\n",
      "project_id                     304674 non-null object\n",
      "project_name_                  304674 non-null object\n",
      "region                         304674 non-null object\n",
      "dtypes: category(1), datetime64[ns](7), float64(2), int32(1), object(7)\n",
      "memory usage: 41.0+ MB\n"
     ]
    }
   ],
   "source": [
    "ibrd_df.info()"
   ]
  },
  {
   "cell_type": "markdown",
   "metadata": {},
   "source": [
    "------"
   ]
  },
  {
   "cell_type": "markdown",
   "metadata": {},
   "source": [
    "<br/>\n",
    "\n",
    "### &bull; Date Variables"
   ]
  },
  {
   "cell_type": "code",
   "execution_count": 31,
   "metadata": {
    "scrolled": true
   },
   "outputs": [
    {
     "data": {
      "text/html": [
       "<div>\n",
       "<style scoped>\n",
       "    .dataframe tbody tr th:only-of-type {\n",
       "        vertical-align: middle;\n",
       "    }\n",
       "\n",
       "    .dataframe tbody tr th {\n",
       "        vertical-align: top;\n",
       "    }\n",
       "\n",
       "    .dataframe thead th {\n",
       "        text-align: right;\n",
       "    }\n",
       "</style>\n",
       "<table border=\"1\" class=\"dataframe\">\n",
       "  <thead>\n",
       "    <tr style=\"text-align: right;\">\n",
       "      <th></th>\n",
       "      <th>agreement_signing_date</th>\n",
       "      <th>board_approval_date</th>\n",
       "      <th>closed_date_most_recent_</th>\n",
       "      <th>effective_date_most_recent_</th>\n",
       "      <th>end_of_period</th>\n",
       "      <th>first_repayment_date</th>\n",
       "      <th>last_repayment_date</th>\n",
       "      <th>loan_status</th>\n",
       "    </tr>\n",
       "  </thead>\n",
       "  <tbody>\n",
       "    <tr>\n",
       "      <th>4</th>\n",
       "      <td>2005-08-02</td>\n",
       "      <td>2005-05-17</td>\n",
       "      <td>2011-03-31</td>\n",
       "      <td>2005-10-28</td>\n",
       "      <td>2015-01-31</td>\n",
       "      <td>2010-11-15</td>\n",
       "      <td>2025-05-15</td>\n",
       "      <td>0</td>\n",
       "    </tr>\n",
       "    <tr>\n",
       "      <th>5</th>\n",
       "      <td>2005-10-20</td>\n",
       "      <td>2005-06-07</td>\n",
       "      <td>2013-05-31</td>\n",
       "      <td>2006-01-18</td>\n",
       "      <td>2015-01-31</td>\n",
       "      <td>2010-11-15</td>\n",
       "      <td>2025-05-15</td>\n",
       "      <td>0</td>\n",
       "    </tr>\n",
       "    <tr>\n",
       "      <th>6</th>\n",
       "      <td>2005-08-04</td>\n",
       "      <td>2005-06-09</td>\n",
       "      <td>2012-12-31</td>\n",
       "      <td>2005-12-01</td>\n",
       "      <td>2015-01-31</td>\n",
       "      <td>2010-11-15</td>\n",
       "      <td>2025-05-15</td>\n",
       "      <td>0</td>\n",
       "    </tr>\n",
       "    <tr>\n",
       "      <th>7</th>\n",
       "      <td>2002-09-30</td>\n",
       "      <td>2002-06-18</td>\n",
       "      <td>2003-06-30</td>\n",
       "      <td>2002-12-03</td>\n",
       "      <td>2015-01-31</td>\n",
       "      <td>2012-05-15</td>\n",
       "      <td>2012-05-15</td>\n",
       "      <td>0</td>\n",
       "    </tr>\n",
       "    <tr>\n",
       "      <th>8</th>\n",
       "      <td>2002-07-29</td>\n",
       "      <td>2002-06-20</td>\n",
       "      <td>2006-09-30</td>\n",
       "      <td>2002-09-26</td>\n",
       "      <td>2015-01-31</td>\n",
       "      <td>2007-11-15</td>\n",
       "      <td>2019-05-15</td>\n",
       "      <td>0</td>\n",
       "    </tr>\n",
       "    <tr>\n",
       "      <th>10</th>\n",
       "      <td>2002-10-29</td>\n",
       "      <td>2002-06-27</td>\n",
       "      <td>2007-01-31</td>\n",
       "      <td>2003-03-17</td>\n",
       "      <td>2015-01-31</td>\n",
       "      <td>2008-04-15</td>\n",
       "      <td>2018-04-15</td>\n",
       "      <td>0</td>\n",
       "    </tr>\n",
       "    <tr>\n",
       "      <th>11</th>\n",
       "      <td>2002-09-30</td>\n",
       "      <td>2002-07-16</td>\n",
       "      <td>2006-12-31</td>\n",
       "      <td>2003-06-30</td>\n",
       "      <td>2015-01-31</td>\n",
       "      <td>2008-03-15</td>\n",
       "      <td>2017-09-15</td>\n",
       "      <td>0</td>\n",
       "    </tr>\n",
       "    <tr>\n",
       "      <th>13</th>\n",
       "      <td>2002-09-30</td>\n",
       "      <td>2002-08-06</td>\n",
       "      <td>2003-12-31</td>\n",
       "      <td>2002-12-17</td>\n",
       "      <td>2015-01-31</td>\n",
       "      <td>2013-08-01</td>\n",
       "      <td>2013-08-01</td>\n",
       "      <td>0</td>\n",
       "    </tr>\n",
       "    <tr>\n",
       "      <th>14</th>\n",
       "      <td>2002-08-08</td>\n",
       "      <td>2002-08-08</td>\n",
       "      <td>2004-12-31</td>\n",
       "      <td>2002-08-09</td>\n",
       "      <td>2015-01-31</td>\n",
       "      <td>2005-10-15</td>\n",
       "      <td>2007-04-15</td>\n",
       "      <td>0</td>\n",
       "    </tr>\n",
       "    <tr>\n",
       "      <th>15</th>\n",
       "      <td>2002-10-29</td>\n",
       "      <td>2002-08-08</td>\n",
       "      <td>2007-02-28</td>\n",
       "      <td>2003-02-04</td>\n",
       "      <td>2015-01-31</td>\n",
       "      <td>2008-10-15</td>\n",
       "      <td>2018-04-15</td>\n",
       "      <td>0</td>\n",
       "    </tr>\n",
       "  </tbody>\n",
       "</table>\n",
       "</div>"
      ],
      "text/plain": [
       "   agreement_signing_date board_approval_date closed_date_most_recent_  \\\n",
       "4              2005-08-02          2005-05-17               2011-03-31   \n",
       "5              2005-10-20          2005-06-07               2013-05-31   \n",
       "6              2005-08-04          2005-06-09               2012-12-31   \n",
       "7              2002-09-30          2002-06-18               2003-06-30   \n",
       "8              2002-07-29          2002-06-20               2006-09-30   \n",
       "10             2002-10-29          2002-06-27               2007-01-31   \n",
       "11             2002-09-30          2002-07-16               2006-12-31   \n",
       "13             2002-09-30          2002-08-06               2003-12-31   \n",
       "14             2002-08-08          2002-08-08               2004-12-31   \n",
       "15             2002-10-29          2002-08-08               2007-02-28   \n",
       "\n",
       "   effective_date_most_recent_ end_of_period first_repayment_date  \\\n",
       "4                   2005-10-28    2015-01-31           2010-11-15   \n",
       "5                   2006-01-18    2015-01-31           2010-11-15   \n",
       "6                   2005-12-01    2015-01-31           2010-11-15   \n",
       "7                   2002-12-03    2015-01-31           2012-05-15   \n",
       "8                   2002-09-26    2015-01-31           2007-11-15   \n",
       "10                  2003-03-17    2015-01-31           2008-04-15   \n",
       "11                  2003-06-30    2015-01-31           2008-03-15   \n",
       "13                  2002-12-17    2015-01-31           2013-08-01   \n",
       "14                  2002-08-09    2015-01-31           2005-10-15   \n",
       "15                  2003-02-04    2015-01-31           2008-10-15   \n",
       "\n",
       "   last_repayment_date  loan_status  \n",
       "4           2025-05-15            0  \n",
       "5           2025-05-15            0  \n",
       "6           2025-05-15            0  \n",
       "7           2012-05-15            0  \n",
       "8           2019-05-15            0  \n",
       "10          2018-04-15            0  \n",
       "11          2017-09-15            0  \n",
       "13          2013-08-01            0  \n",
       "14          2007-04-15            0  \n",
       "15          2018-04-15            0  "
      ]
     },
     "execution_count": 31,
     "metadata": {},
     "output_type": "execute_result"
    }
   ],
   "source": [
    "date_cols = list(ibrd_df.select_dtypes(include='datetime64').columns)\n",
    "date_cols.append('loan_status')\n",
    "ibrd_df.loc[ibrd_df['loan_status']==0, date_cols].head(10)"
   ]
  },
  {
   "cell_type": "code",
   "execution_count": 32,
   "metadata": {},
   "outputs": [
    {
     "data": {
      "text/html": [
       "<div>\n",
       "<style scoped>\n",
       "    .dataframe tbody tr th:only-of-type {\n",
       "        vertical-align: middle;\n",
       "    }\n",
       "\n",
       "    .dataframe tbody tr th {\n",
       "        vertical-align: top;\n",
       "    }\n",
       "\n",
       "    .dataframe thead th {\n",
       "        text-align: right;\n",
       "    }\n",
       "</style>\n",
       "<table border=\"1\" class=\"dataframe\">\n",
       "  <thead>\n",
       "    <tr style=\"text-align: right;\">\n",
       "      <th></th>\n",
       "      <th>agreement_signing_date</th>\n",
       "      <th>board_approval_date</th>\n",
       "      <th>closed_date_most_recent_</th>\n",
       "      <th>effective_date_most_recent_</th>\n",
       "      <th>end_of_period</th>\n",
       "      <th>first_repayment_date</th>\n",
       "      <th>last_repayment_date</th>\n",
       "      <th>loan_status</th>\n",
       "    </tr>\n",
       "  </thead>\n",
       "  <tbody>\n",
       "    <tr>\n",
       "      <th>74</th>\n",
       "      <td>2003-03-21</td>\n",
       "      <td>2003-03-06</td>\n",
       "      <td>2005-02-16</td>\n",
       "      <td>2004-12-21</td>\n",
       "      <td>2015-01-31</td>\n",
       "      <td>2008-09-01</td>\n",
       "      <td>2020-03-01</td>\n",
       "      <td>1</td>\n",
       "    </tr>\n",
       "    <tr>\n",
       "      <th>159</th>\n",
       "      <td>2002-09-23</td>\n",
       "      <td>2001-03-22</td>\n",
       "      <td>2006-06-30</td>\n",
       "      <td>2003-01-22</td>\n",
       "      <td>2015-01-31</td>\n",
       "      <td>2006-11-15</td>\n",
       "      <td>2021-05-15</td>\n",
       "      <td>1</td>\n",
       "    </tr>\n",
       "    <tr>\n",
       "      <th>178</th>\n",
       "      <td>2003-09-23</td>\n",
       "      <td>2003-07-31</td>\n",
       "      <td>2008-06-30</td>\n",
       "      <td>2004-03-22</td>\n",
       "      <td>2015-01-31</td>\n",
       "      <td>2008-12-15</td>\n",
       "      <td>2018-06-15</td>\n",
       "      <td>1</td>\n",
       "    </tr>\n",
       "    <tr>\n",
       "      <th>203</th>\n",
       "      <td>1984-06-05</td>\n",
       "      <td>1984-05-31</td>\n",
       "      <td>1994-08-06</td>\n",
       "      <td>1984-05-31</td>\n",
       "      <td>2015-01-31</td>\n",
       "      <td>1993-06-01</td>\n",
       "      <td>1994-06-01</td>\n",
       "      <td>1</td>\n",
       "    </tr>\n",
       "    <tr>\n",
       "      <th>219</th>\n",
       "      <td>1985-03-22</td>\n",
       "      <td>1984-06-14</td>\n",
       "      <td>1988-07-01</td>\n",
       "      <td>1985-03-22</td>\n",
       "      <td>2015-01-31</td>\n",
       "      <td>1994-01-15</td>\n",
       "      <td>1994-07-15</td>\n",
       "      <td>1</td>\n",
       "    </tr>\n",
       "    <tr>\n",
       "      <th>220</th>\n",
       "      <td>1985-03-22</td>\n",
       "      <td>1984-06-14</td>\n",
       "      <td>1988-07-01</td>\n",
       "      <td>1985-03-22</td>\n",
       "      <td>2015-01-31</td>\n",
       "      <td>1994-07-15</td>\n",
       "      <td>1995-01-15</td>\n",
       "      <td>1</td>\n",
       "    </tr>\n",
       "    <tr>\n",
       "      <th>225</th>\n",
       "      <td>1985-10-25</td>\n",
       "      <td>1985-10-22</td>\n",
       "      <td>1987-12-31</td>\n",
       "      <td>1985-10-25</td>\n",
       "      <td>2015-01-31</td>\n",
       "      <td>1996-05-01</td>\n",
       "      <td>1997-11-01</td>\n",
       "      <td>1</td>\n",
       "    </tr>\n",
       "    <tr>\n",
       "      <th>267</th>\n",
       "      <td>1998-12-16</td>\n",
       "      <td>1998-04-23</td>\n",
       "      <td>2006-04-01</td>\n",
       "      <td>1999-06-28</td>\n",
       "      <td>2015-01-31</td>\n",
       "      <td>2003-11-15</td>\n",
       "      <td>2015-05-15</td>\n",
       "      <td>1</td>\n",
       "    </tr>\n",
       "    <tr>\n",
       "      <th>271</th>\n",
       "      <td>2006-06-05</td>\n",
       "      <td>2006-02-16</td>\n",
       "      <td>2010-06-30</td>\n",
       "      <td>2006-09-08</td>\n",
       "      <td>2015-01-31</td>\n",
       "      <td>2011-06-15</td>\n",
       "      <td>2022-12-15</td>\n",
       "      <td>1</td>\n",
       "    </tr>\n",
       "    <tr>\n",
       "      <th>289</th>\n",
       "      <td>2002-09-30</td>\n",
       "      <td>2002-09-10</td>\n",
       "      <td>2005-04-28</td>\n",
       "      <td>2003-01-28</td>\n",
       "      <td>2015-01-31</td>\n",
       "      <td>2009-08-15</td>\n",
       "      <td>2017-02-15</td>\n",
       "      <td>1</td>\n",
       "    </tr>\n",
       "  </tbody>\n",
       "</table>\n",
       "</div>"
      ],
      "text/plain": [
       "    agreement_signing_date board_approval_date closed_date_most_recent_  \\\n",
       "74              2003-03-21          2003-03-06               2005-02-16   \n",
       "159             2002-09-23          2001-03-22               2006-06-30   \n",
       "178             2003-09-23          2003-07-31               2008-06-30   \n",
       "203             1984-06-05          1984-05-31               1994-08-06   \n",
       "219             1985-03-22          1984-06-14               1988-07-01   \n",
       "220             1985-03-22          1984-06-14               1988-07-01   \n",
       "225             1985-10-25          1985-10-22               1987-12-31   \n",
       "267             1998-12-16          1998-04-23               2006-04-01   \n",
       "271             2006-06-05          2006-02-16               2010-06-30   \n",
       "289             2002-09-30          2002-09-10               2005-04-28   \n",
       "\n",
       "    effective_date_most_recent_ end_of_period first_repayment_date  \\\n",
       "74                   2004-12-21    2015-01-31           2008-09-01   \n",
       "159                  2003-01-22    2015-01-31           2006-11-15   \n",
       "178                  2004-03-22    2015-01-31           2008-12-15   \n",
       "203                  1984-05-31    2015-01-31           1993-06-01   \n",
       "219                  1985-03-22    2015-01-31           1994-01-15   \n",
       "220                  1985-03-22    2015-01-31           1994-07-15   \n",
       "225                  1985-10-25    2015-01-31           1996-05-01   \n",
       "267                  1999-06-28    2015-01-31           2003-11-15   \n",
       "271                  2006-09-08    2015-01-31           2011-06-15   \n",
       "289                  2003-01-28    2015-01-31           2009-08-15   \n",
       "\n",
       "    last_repayment_date  loan_status  \n",
       "74           2020-03-01            1  \n",
       "159          2021-05-15            1  \n",
       "178          2018-06-15            1  \n",
       "203          1994-06-01            1  \n",
       "219          1994-07-15            1  \n",
       "220          1995-01-15            1  \n",
       "225          1997-11-01            1  \n",
       "267          2015-05-15            1  \n",
       "271          2022-12-15            1  \n",
       "289          2017-02-15            1  "
      ]
     },
     "execution_count": 32,
     "metadata": {},
     "output_type": "execute_result"
    }
   ],
   "source": [
    "ibrd_df.loc[ibrd_df['loan_status']==1, date_cols].head(10)"
   ]
  },
  {
   "cell_type": "code",
   "execution_count": 33,
   "metadata": {},
   "outputs": [],
   "source": [
    "# days taken from board approval to signing\n",
    "ibrd_df['days_for_signing'] = [(d[0]-d[1]).days for d in \\\n",
    "        zip(ibrd_df['agreement_signing_date'], ibrd_df['board_approval_date'])]\n",
    "\n",
    "# agreed days for repayment\n",
    "ibrd_df['days_for_repayment'] = [(d[0]-d[1]).days for d in \\\n",
    "        zip(ibrd_df['last_repayment_date'], ibrd_df['first_repayment_date'])]"
   ]
  },
  {
   "cell_type": "markdown",
   "metadata": {},
   "source": [
    "\n",
    "------"
   ]
  },
  {
   "cell_type": "markdown",
   "metadata": {},
   "source": [
    "<br/>\n",
    "\n",
    "## Data Exploration"
   ]
  },
  {
   "cell_type": "code",
   "execution_count": 34,
   "metadata": {},
   "outputs": [
    {
     "name": "stdout",
     "output_type": "stream",
     "text": [
      "Average loan duration from signing to closing: 6.06\n"
     ]
    }
   ],
   "source": [
    "average_repayment_duration = (ibrd_df['closed_date_most_recent_'] \n",
    "                              - ibrd_df['agreement_signing_date']).mean().days/365\n",
    "print(\"Average loan duration from signing to closing:\", \n",
    "      round(average_repayment_duration, 2))"
   ]
  },
  {
   "cell_type": "markdown",
   "metadata": {},
   "source": [
    "<br/>\n",
    "\n",
    "### &bull; Numerical Data"
   ]
  },
  {
   "cell_type": "code",
   "execution_count": 35,
   "metadata": {
    "scrolled": false
   },
   "outputs": [
    {
     "data": {
      "text/html": [
       "<table border=\"1\" class=\"dataframe\">\n",
       "  <thead>\n",
       "    <tr style=\"text-align: right;\">\n",
       "      <th></th>\n",
       "      <th>mean</th>\n",
       "      <th>std</th>\n",
       "      <th>min</th>\n",
       "      <th>25%</th>\n",
       "      <th>50%</th>\n",
       "      <th>75%</th>\n",
       "      <th>max</th>\n",
       "    </tr>\n",
       "  </thead>\n",
       "  <tbody>\n",
       "    <tr>\n",
       "      <th>interest_rate</th>\n",
       "      <td>5.982840e+00</td>\n",
       "      <td>2.795458e+00</td>\n",
       "      <td>0.0</td>\n",
       "      <td>4.85</td>\n",
       "      <td>6.18</td>\n",
       "      <td>7.90</td>\n",
       "      <td>1.200000e+01</td>\n",
       "    </tr>\n",
       "    <tr>\n",
       "      <th>loan_status</th>\n",
       "      <td>3.067213e-02</td>\n",
       "      <td>1.724281e-01</td>\n",
       "      <td>0.0</td>\n",
       "      <td>0.00</td>\n",
       "      <td>0.00</td>\n",
       "      <td>0.00</td>\n",
       "      <td>1.000000e+00</td>\n",
       "    </tr>\n",
       "    <tr>\n",
       "      <th>original_principal_amount</th>\n",
       "      <td>6.200329e+07</td>\n",
       "      <td>1.111631e+08</td>\n",
       "      <td>0.0</td>\n",
       "      <td>10100000.00</td>\n",
       "      <td>29000000.00</td>\n",
       "      <td>73943876.26</td>\n",
       "      <td>3.000000e+09</td>\n",
       "    </tr>\n",
       "    <tr>\n",
       "      <th>days_for_signing</th>\n",
       "      <td>1.161685e+02</td>\n",
       "      <td>2.791598e+02</td>\n",
       "      <td>0.0</td>\n",
       "      <td>16.00</td>\n",
       "      <td>38.00</td>\n",
       "      <td>98.00</td>\n",
       "      <td>3.083000e+03</td>\n",
       "    </tr>\n",
       "    <tr>\n",
       "      <th>days_for_repayment</th>\n",
       "      <td>4.304070e+03</td>\n",
       "      <td>1.443212e+03</td>\n",
       "      <td>-29404.0</td>\n",
       "      <td>3653.00</td>\n",
       "      <td>4202.00</td>\n",
       "      <td>5295.00</td>\n",
       "      <td>8.950000e+03</td>\n",
       "    </tr>\n",
       "  </tbody>\n",
       "</table>"
      ],
      "text/plain": [
       "<IPython.core.display.HTML object>"
      ]
     },
     "metadata": {},
     "output_type": "display_data"
    }
   ],
   "source": [
    "display(HTML(ibrd_df.describe().drop('count').T.to_html()))"
   ]
  },
  {
   "cell_type": "code",
   "execution_count": 36,
   "metadata": {},
   "outputs": [
    {
     "data": {
      "text/html": [
       "<div>\n",
       "<style scoped>\n",
       "    .dataframe tbody tr th:only-of-type {\n",
       "        vertical-align: middle;\n",
       "    }\n",
       "\n",
       "    .dataframe tbody tr th {\n",
       "        vertical-align: top;\n",
       "    }\n",
       "\n",
       "    .dataframe thead th {\n",
       "        text-align: right;\n",
       "    }\n",
       "</style>\n",
       "<table border=\"1\" class=\"dataframe\">\n",
       "  <thead>\n",
       "    <tr style=\"text-align: right;\">\n",
       "      <th></th>\n",
       "      <th>first_repayment_date</th>\n",
       "      <th>last_repayment_date</th>\n",
       "    </tr>\n",
       "  </thead>\n",
       "  <tbody>\n",
       "    <tr>\n",
       "      <th>108</th>\n",
       "      <td>2015-02-15</td>\n",
       "      <td>1939-02-15</td>\n",
       "    </tr>\n",
       "    <tr>\n",
       "      <th>217</th>\n",
       "      <td>2015-11-15</td>\n",
       "      <td>1935-05-15</td>\n",
       "    </tr>\n",
       "    <tr>\n",
       "      <th>7280</th>\n",
       "      <td>2015-11-15</td>\n",
       "      <td>1935-05-15</td>\n",
       "    </tr>\n",
       "    <tr>\n",
       "      <th>7304</th>\n",
       "      <td>2015-02-15</td>\n",
       "      <td>1939-02-15</td>\n",
       "    </tr>\n",
       "    <tr>\n",
       "      <th>10885</th>\n",
       "      <td>2015-02-15</td>\n",
       "      <td>1939-02-15</td>\n",
       "    </tr>\n",
       "    <tr>\n",
       "      <th>10887</th>\n",
       "      <td>2015-11-15</td>\n",
       "      <td>1935-05-15</td>\n",
       "    </tr>\n",
       "    <tr>\n",
       "      <th>16907</th>\n",
       "      <td>2015-02-15</td>\n",
       "      <td>1939-02-15</td>\n",
       "    </tr>\n",
       "    <tr>\n",
       "      <th>16991</th>\n",
       "      <td>2015-11-15</td>\n",
       "      <td>1935-05-15</td>\n",
       "    </tr>\n",
       "    <tr>\n",
       "      <th>23720</th>\n",
       "      <td>2015-02-15</td>\n",
       "      <td>1939-02-15</td>\n",
       "    </tr>\n",
       "    <tr>\n",
       "      <th>23721</th>\n",
       "      <td>2015-11-15</td>\n",
       "      <td>1935-05-15</td>\n",
       "    </tr>\n",
       "  </tbody>\n",
       "</table>\n",
       "</div>"
      ],
      "text/plain": [
       "      first_repayment_date last_repayment_date\n",
       "108             2015-02-15          1939-02-15\n",
       "217             2015-11-15          1935-05-15\n",
       "7280            2015-11-15          1935-05-15\n",
       "7304            2015-02-15          1939-02-15\n",
       "10885           2015-02-15          1939-02-15\n",
       "10887           2015-11-15          1935-05-15\n",
       "16907           2015-02-15          1939-02-15\n",
       "16991           2015-11-15          1935-05-15\n",
       "23720           2015-02-15          1939-02-15\n",
       "23721           2015-11-15          1935-05-15"
      ]
     },
     "execution_count": 36,
     "metadata": {},
     "output_type": "execute_result"
    }
   ],
   "source": [
    "ibrd_df.loc[ibrd_df['days_for_repayment'] < 0, \n",
    "            ['first_repayment_date', 'last_repayment_date']].head(10)"
   ]
  },
  {
   "cell_type": "code",
   "execution_count": 37,
   "metadata": {},
   "outputs": [
    {
     "name": "stdout",
     "output_type": "stream",
     "text": [
      "(302190, 20)\n"
     ]
    }
   ],
   "source": [
    "ibrd_df = ibrd_df[ibrd_df['days_for_repayment'] > 0]\n",
    "print(ibrd_df.shape)"
   ]
  },
  {
   "cell_type": "code",
   "execution_count": 38,
   "metadata": {},
   "outputs": [
    {
     "data": {
      "image/png": "[encoded data removed]",
      "text/plain": [
       "<Figure size 1080x864 with 4 Axes>"
      ]
     },
     "metadata": {
      "needs_background": "light"
     },
     "output_type": "display_data"
    }
   ],
   "source": [
    "fig, axes = plt.subplots(2, 2, figsize=(15,12))\n",
    "\n",
    "# dollar amount\n",
    "axes[0,0].hist(ibrd_df['original_principal_amount'], bins=500)\n",
    "axes[0,0].set_xlim(0, 0.5e9)\n",
    "axes[0,0].set_xticks(np.arange(0, 0.6e9, 1e8))\n",
    "axes[0,0].set_xticklabels(['0', '100', '200', '300', '400', '500'])\n",
    "axes[0,0].set_title(\"Original Loan Amount\", fontsize=15)\n",
    "axes[0,0].set_xlabel(\"Million $\", fontsize=12)\n",
    "axes[0,0].set_ylabel(\"Count\")\n",
    "\n",
    "# interest rate\n",
    "axes[0,1].hist(ibrd_df['interest_rate'], bins=100)\n",
    "axes[0,1].set_title(\"Interest Rate\", fontsize=15)\n",
    "axes[0,1].set_xlabel(\"Annual %\", fontsize=12)\n",
    "axes[0,1].set_ylabel(\"Count\")\n",
    "\n",
    "# days from approval to signing\n",
    "axes[1,0].hist(ibrd_df['days_for_signing'], bins=400)\n",
    "axes[1,0].set_xlim(0, 500)\n",
    "axes[1,0].set_title(\"Board Approval to Signing\", fontsize=15)\n",
    "axes[1,0].set_xlabel(\"Days\", fontsize=12)\n",
    "axes[1,0].set_ylabel(\"Count\")\n",
    "\n",
    "# days for repayment\n",
    "axes[1,1].hist(ibrd_df['days_for_repayment'], bins=400)\n",
    "axes[1,1].set_xlim(0, 0.8e4)\n",
    "axes[1,1].set_title(\"Expected Repayment Duration\", fontsize=15)\n",
    "axes[1,1].set_xlabel(\"Days\", fontsize=12)\n",
    "axes[1,1].set_ylabel(\"Count\")\n",
    "\n",
    "plt.show()"
   ]
  },
  {
   "cell_type": "code",
   "execution_count": 39,
   "metadata": {},
   "outputs": [
    {
     "data": {
      "text/html": [
       "<div>\n",
       "<style scoped>\n",
       "    .dataframe tbody tr th:only-of-type {\n",
       "        vertical-align: middle;\n",
       "    }\n",
       "\n",
       "    .dataframe tbody tr th {\n",
       "        vertical-align: top;\n",
       "    }\n",
       "\n",
       "    .dataframe thead th {\n",
       "        text-align: right;\n",
       "    }\n",
       "</style>\n",
       "<table border=\"1\" class=\"dataframe\">\n",
       "  <thead>\n",
       "    <tr style=\"text-align: right;\">\n",
       "      <th></th>\n",
       "      <th>interest_rate</th>\n",
       "      <th>original_principal_amount</th>\n",
       "      <th>days_for_signing</th>\n",
       "      <th>days_for_repayment</th>\n",
       "    </tr>\n",
       "  </thead>\n",
       "  <tbody>\n",
       "    <tr>\n",
       "      <th>interest_rate</th>\n",
       "      <td>1.000000</td>\n",
       "      <td>-0.167315</td>\n",
       "      <td>0.074184</td>\n",
       "      <td>0.116876</td>\n",
       "    </tr>\n",
       "    <tr>\n",
       "      <th>original_principal_amount</th>\n",
       "      <td>-0.167315</td>\n",
       "      <td>1.000000</td>\n",
       "      <td>-0.063718</td>\n",
       "      <td>-0.056885</td>\n",
       "    </tr>\n",
       "    <tr>\n",
       "      <th>days_for_signing</th>\n",
       "      <td>0.074184</td>\n",
       "      <td>-0.063718</td>\n",
       "      <td>1.000000</td>\n",
       "      <td>0.043571</td>\n",
       "    </tr>\n",
       "    <tr>\n",
       "      <th>days_for_repayment</th>\n",
       "      <td>0.116876</td>\n",
       "      <td>-0.056885</td>\n",
       "      <td>0.043571</td>\n",
       "      <td>1.000000</td>\n",
       "    </tr>\n",
       "  </tbody>\n",
       "</table>\n",
       "</div>"
      ],
      "text/plain": [
       "                           interest_rate  original_principal_amount  \\\n",
       "interest_rate                   1.000000                  -0.167315   \n",
       "original_principal_amount      -0.167315                   1.000000   \n",
       "days_for_signing                0.074184                  -0.063718   \n",
       "days_for_repayment              0.116876                  -0.056885   \n",
       "\n",
       "                           days_for_signing  days_for_repayment  \n",
       "interest_rate                      0.074184            0.116876  \n",
       "original_principal_amount         -0.063718           -0.056885  \n",
       "days_for_signing                   1.000000            0.043571  \n",
       "days_for_repayment                 0.043571            1.000000  "
      ]
     },
     "execution_count": 39,
     "metadata": {},
     "output_type": "execute_result"
    }
   ],
   "source": [
    "corr = ibrd_df.loc[:, ibrd_df.columns != 'loan_status'].corr()\n",
    "corr"
   ]
  },
  {
   "cell_type": "code",
   "execution_count": 40,
   "metadata": {},
   "outputs": [
    {
     "data": {
      "image/png": "[encoded data removed]",
      "text/plain": [
       "<Figure size 576x432 with 1 Axes>"
      ]
     },
     "metadata": {
      "needs_background": "light"
     },
     "output_type": "display_data"
    }
   ],
   "source": [
    "plt.figure(figsize=(8,6))\n",
    "\n",
    "ax = sns.scatterplot(x='agreement_signing_date',\n",
    "                     y='original_principal_amount', \n",
    "                     hue='loan_status', data=ibrd_df, s=10, legend='full')\n",
    "ax.set_title(\"Original Principal Amount by Year\", fontsize=15)\n",
    "ax.set_xlabel(\"Year of Signing\", fontsize=12)\n",
    "ax.set_ylabel(\"Billion $\", fontsize=12)\n",
    "ax.set_yticks(np.arange(0, 3.1e9, 0.5e9))\n",
    "ax.set_yticklabels(['0', '0.5', '1', '1.5', '2', '2.5', '3'])\n",
    "ax.legend(['Repaid', 'Cancelled'])\n",
    "\n",
    "plt.show()"
   ]
  },
  {
   "cell_type": "code",
   "execution_count": 41,
   "metadata": {},
   "outputs": [
    {
     "name": "stdout",
     "output_type": "stream",
     "text": [
      "Maximum dollar amount among cancelled loans: 0.44 billion $\n",
      "Data Frame Shape: (299458, 20)\n"
     ]
    }
   ],
   "source": [
    "cancelled_max = max(ibrd_df[ibrd_df['loan_status']==1]['original_principal_amount'])\n",
    "ibrd_df = ibrd_df[ibrd_df['original_principal_amount'] < cancelled_max]\n",
    "\n",
    "print(\"Maximum dollar amount among cancelled loans:\", cancelled_max/1e9, \"billion $\")\n",
    "print(\"Data Frame Shape:\", ibrd_df.shape)"
   ]
  },
  {
   "cell_type": "markdown",
   "metadata": {},
   "source": [
    "<br/>\n",
    "\n",
    "### &bull; Categorical Data"
   ]
  },
  {
   "cell_type": "code",
   "execution_count": 42,
   "metadata": {
    "scrolled": true
   },
   "outputs": [
    {
     "data": {
      "text/html": [
       "<table border=\"1\" class=\"dataframe\">\n",
       "  <thead>\n",
       "    <tr style=\"text-align: right;\">\n",
       "      <th></th>\n",
       "      <th>unique</th>\n",
       "      <th>top</th>\n",
       "      <th>freq</th>\n",
       "    </tr>\n",
       "  </thead>\n",
       "  <tbody>\n",
       "    <tr>\n",
       "      <th>borrower</th>\n",
       "      <td>713</td>\n",
       "      <td>Ministry of Finance</td>\n",
       "      <td>39100</td>\n",
       "    </tr>\n",
       "    <tr>\n",
       "      <th>country</th>\n",
       "      <td>109</td>\n",
       "      <td>Indonesia</td>\n",
       "      <td>29880</td>\n",
       "    </tr>\n",
       "    <tr>\n",
       "      <th>country_code</th>\n",
       "      <td>109</td>\n",
       "      <td>ID</td>\n",
       "      <td>29880</td>\n",
       "    </tr>\n",
       "    <tr>\n",
       "      <th>loan_number</th>\n",
       "      <td>5150</td>\n",
       "      <td>IBRD3341A</td>\n",
       "      <td>65</td>\n",
       "    </tr>\n",
       "    <tr>\n",
       "      <th>loan_type</th>\n",
       "      <td>8</td>\n",
       "      <td>POOL LOAN</td>\n",
       "      <td>140768</td>\n",
       "    </tr>\n",
       "    <tr>\n",
       "      <th>project_id</th>\n",
       "      <td>3362</td>\n",
       "      <td>P005748</td>\n",
       "      <td>704</td>\n",
       "    </tr>\n",
       "    <tr>\n",
       "      <th>project_name_</th>\n",
       "      <td>2849</td>\n",
       "      <td>EDUCATION II</td>\n",
       "      <td>1796</td>\n",
       "    </tr>\n",
       "    <tr>\n",
       "      <th>region</th>\n",
       "      <td>12</td>\n",
       "      <td>Latin America and Caribbean</td>\n",
       "      <td>48158</td>\n",
       "    </tr>\n",
       "  </tbody>\n",
       "</table>"
      ],
      "text/plain": [
       "<IPython.core.display.HTML object>"
      ]
     },
     "metadata": {},
     "output_type": "display_data"
    }
   ],
   "source": [
    "display(HTML(ibrd_df.describe(include=['object', 'category'])\\\n",
    "             .drop('count').T.to_html()))"
   ]
  },
  {
   "cell_type": "markdown",
   "metadata": {},
   "source": [
    "------"
   ]
  },
  {
   "cell_type": "markdown",
   "metadata": {},
   "source": [
    "<br/>\n",
    "\n",
    "## Independent Variable: *Loan Status*"
   ]
  },
  {
   "cell_type": "code",
   "execution_count": 43,
   "metadata": {},
   "outputs": [
    {
     "data": {
      "text/html": [
       "<table border=\"1\" class=\"dataframe\">\n",
       "  <thead>\n",
       "    <tr style=\"text-align: right;\">\n",
       "      <th></th>\n",
       "      <th>Country</th>\n",
       "      <th>Total Amount</th>\n",
       "    </tr>\n",
       "  </thead>\n",
       "  <tbody>\n",
       "    <tr>\n",
       "      <th>62</th>\n",
       "      <td>Mexico</td>\n",
       "      <td>1610.01</td>\n",
       "    </tr>\n",
       "    <tr>\n",
       "      <th>9</th>\n",
       "      <td>Brazil</td>\n",
       "      <td>1609.47</td>\n",
       "    </tr>\n",
       "    <tr>\n",
       "      <th>41</th>\n",
       "      <td>Indonesia</td>\n",
       "      <td>1576.98</td>\n",
       "    </tr>\n",
       "    <tr>\n",
       "      <th>40</th>\n",
       "      <td>India</td>\n",
       "      <td>1257.13</td>\n",
       "    </tr>\n",
       "    <tr>\n",
       "      <th>100</th>\n",
       "      <td>Turkey</td>\n",
       "      <td>856.75</td>\n",
       "    </tr>\n",
       "    <tr>\n",
       "      <th>15</th>\n",
       "      <td>China</td>\n",
       "      <td>746.51</td>\n",
       "    </tr>\n",
       "    <tr>\n",
       "      <th>1</th>\n",
       "      <td>Argentina</td>\n",
       "      <td>679.57</td>\n",
       "    </tr>\n",
       "    <tr>\n",
       "      <th>74</th>\n",
       "      <td>Philippines</td>\n",
       "      <td>539.00</td>\n",
       "    </tr>\n",
       "    <tr>\n",
       "      <th>16</th>\n",
       "      <td>Colombia</td>\n",
       "      <td>524.49</td>\n",
       "    </tr>\n",
       "    <tr>\n",
       "      <th>50</th>\n",
       "      <td>Korea, Republic of</td>\n",
       "      <td>506.37</td>\n",
       "    </tr>\n",
       "  </tbody>\n",
       "</table>"
      ],
      "text/plain": [
       "<IPython.core.display.HTML object>"
      ]
     },
     "metadata": {},
     "output_type": "display_data"
    }
   ],
   "source": [
    "borrowers_sum = ibrd_df.groupby(['country'])['original_principal_amount'].sum()\n",
    "borrowers_sum_df = pd.DataFrame({'Country': borrowers_sum.keys(), \n",
    "                                 'Total Amount': borrowers_sum.values/1_000_000_000})\n",
    "\n",
    "borrowers_sum_df['Total Amount'] = round(borrowers_sum_df['Total Amount'], 2)\n",
    "borrowers_sum_df.sort_values(by='Total Amount', ascending=False, inplace=True)\n",
    "\n",
    "display(HTML(borrowers_sum_df.head(10).to_html()))"
   ]
  },
  {
   "cell_type": "markdown",
   "metadata": {},
   "source": [
    "Remember there are several other loan status"
   ]
  },
  {
   "cell_type": "code",
   "execution_count": 44,
   "metadata": {},
   "outputs": [],
   "source": [
    "cancel_rate = ibrd_df.groupby(['country'])['loan_status'].mean()"
   ]
  },
  {
   "cell_type": "code",
   "execution_count": 45,
   "metadata": {},
   "outputs": [
    {
     "name": "stdout",
     "output_type": "stream",
     "text": [
      "Countries with no cancellation\n",
      "Index(['Bahamas, The', 'Barbados', 'Belarus', 'Belize', 'Bolivia',\n",
      "       'Bosnia and Herzegovina', 'Botswana', 'Chad',\n",
      "       'Congo, Democratic Republic of', 'Cote d'Ivoire', 'Croatia',\n",
      "       'Czech Republic', 'Eastern Africa', 'Estonia', 'Fiji', 'Gabon', 'Ghana',\n",
      "       'Grenada', 'Guatemala', 'Guyana', 'Honduras',\n",
      "       'Iran, Islamic Republic of', 'Iraq', 'Ireland', 'Israel', 'Kazakhstan',\n",
      "       'Lesotho', 'Liberia', 'Lithuania',\n",
      "       'Macedonia, former Yugoslav Republic', 'Madagascar', 'Malawi',\n",
      "       'Mauritania', 'Mauritius', 'Moldova', 'Montenegro', 'Nicaragua',\n",
      "       'Nigeria', 'Oman', 'Papua New Guinea', 'Senegal', 'Seychelles',\n",
      "       'Sierra Leone', 'Singapore', 'Slovak Republic', 'Slovenia',\n",
      "       'South Africa', 'Spain', 'St. Kitts and Nevis', 'St. Lucia',\n",
      "       'St. Vincent and the Grenadines', 'Swaziland', 'Tanzania', 'Togo',\n",
      "       'Trinidad and Tobago', 'Turkmenistan', 'Western Africa', 'Zambia'],\n",
      "      dtype='object', name='country')\n"
     ]
    }
   ],
   "source": [
    "print(\"Countries with no cancellation\")\n",
    "print(cancel_rate[(cancel_rate==0)].keys())"
   ]
  },
  {
   "cell_type": "code",
   "execution_count": 46,
   "metadata": {},
   "outputs": [
    {
     "name": "stdout",
     "output_type": "stream",
     "text": [
      "Top 5 most repaid countries\n",
      "country\n",
      "Turkey                0.004983\n",
      "Tunisia               0.006463\n",
      "Brazil                0.008439\n",
      "Korea, Republic of    0.009321\n",
      "Malaysia              0.009524\n",
      "Name: loan_status, dtype: float64\n"
     ]
    }
   ],
   "source": [
    "print(\"Top 5 most repaid countries\")\n",
    "print(cancel_rate[(cancel_rate != 0)].sort_values()[:5])"
   ]
  },
  {
   "cell_type": "code",
   "execution_count": 47,
   "metadata": {},
   "outputs": [
    {
     "name": "stdout",
     "output_type": "stream",
     "text": [
      "Top 5 most cancelling countries\n",
      "country\n",
      "Dominica              0.243243\n",
      "Sri Lanka             0.250980\n",
      "Sudan                 0.500000\n",
      "Uzbekistan            0.538462\n",
      "Yugoslavia, former    0.666667\n",
      "Name: loan_status, dtype: float64\n"
     ]
    }
   ],
   "source": [
    "print(\"Top 5 most cancelling countries\")\n",
    "print(cancel_rate[(cancel_rate != 0)].sort_values()[-5:])"
   ]
  },
  {
   "cell_type": "markdown",
   "metadata": {},
   "source": [
    "<br/>\n",
    "\n",
    "### &bull; Visualization by Country"
   ]
  },
  {
   "cell_type": "code",
   "execution_count": 48,
   "metadata": {},
   "outputs": [],
   "source": [
    "\"\"\"\n",
    "Count cancelled loans year between 1980 ~ 2018\n",
    "\"\"\"\n",
    "def num_cancelled_by_year(country):\n",
    "    cancelled_loans = []\n",
    "    for year in range(1980, 2019):\n",
    "        cancelled = ibrd_df[(ibrd_df['country'] == country) & \n",
    "                    (ibrd_df['closed_date_most_recent_'] < datetime(year, 1, 1))]\\\n",
    "                    ['loan_status'].sum()\n",
    "        cancelled_loans.append(cancelled)\n",
    "    \n",
    "    return cancelled_loans"
   ]
  },
  {
   "cell_type": "code",
   "execution_count": 49,
   "metadata": {},
   "outputs": [
    {
     "data": {
      "text/plain": [
       "<matplotlib.legend.Legend at 0x2759c198d68>"
      ]
     },
     "execution_count": 49,
     "metadata": {},
     "output_type": "execute_result"
    },
    {
     "data": {
      "image/png": "[encoded data removed]",
      "text/plain": [
       "<Figure size 504x504 with 1 Axes>"
      ]
     },
     "metadata": {
      "needs_background": "light"
     },
     "output_type": "display_data"
    }
   ],
   "source": [
    "plt.figure(figsize=(7, 7))\n",
    "plt.xticks(np.arange(0, 39, 5), np.arange(1980, 2019, 5))\n",
    "plt.xlabel(\"Year\", fontsize=15)\n",
    "plt.ylabel(\"Cumulative Cancelled Loans\", fontsize=15)\n",
    "\n",
    "plt.plot(num_cancelled_by_year(\"Turkey\"), label=\"Turkey\")\n",
    "plt.plot(num_cancelled_by_year(\"Tunisia\"), label=\"Tunisia\")\n",
    "plt.plot(num_cancelled_by_year(\"Brazil\"), label=\"Brazil\")\n",
    "\n",
    "plt.legend()"
   ]
  },
  {
   "cell_type": "code",
   "execution_count": 50,
   "metadata": {},
   "outputs": [
    {
     "data": {
      "text/plain": [
       "<matplotlib.legend.Legend at 0x27597636908>"
      ]
     },
     "execution_count": 50,
     "metadata": {},
     "output_type": "execute_result"
    },
    {
     "data": {
      "image/png": "[encoded data removed]",
      "text/plain": [
       "<Figure size 504x504 with 1 Axes>"
      ]
     },
     "metadata": {
      "needs_background": "light"
     },
     "output_type": "display_data"
    }
   ],
   "source": [
    "plt.figure(figsize=(7, 7))\n",
    "plt.xticks(np.arange(0, 39, 5), np.arange(1980, 2019, 5))\n",
    "plt.xlabel(\"Year\", fontsize=15)\n",
    "plt.ylabel(\"Cumulative Cancelled Loans\", fontsize=15)\n",
    "\n",
    "plt.plot(num_cancelled_by_year(\"Yugoslavia, former\"), label=\"Yugoslavia\")\n",
    "plt.plot(num_cancelled_by_year(\"Sudan\"), label=\"Sudan\")\n",
    "plt.plot(num_cancelled_by_year(\"Uzbekistan\"), label=\"Uzbekistan\")\n",
    "\n",
    "plt.legend()"
   ]
  },
  {
   "cell_type": "code",
   "execution_count": 51,
   "metadata": {},
   "outputs": [
    {
     "data": {
      "text/plain": [
       "<matplotlib.legend.Legend at 0x275976ab3c8>"
      ]
     },
     "execution_count": 51,
     "metadata": {},
     "output_type": "execute_result"
    },
    {
     "data": {
      "image/png": "[encoded data removed]",
      "text/plain": [
       "<Figure size 504x504 with 1 Axes>"
      ]
     },
     "metadata": {
      "needs_background": "light"
     },
     "output_type": "display_data"
    }
   ],
   "source": [
    "plt.figure(figsize=(7, 7))\n",
    "plt.xticks(np.arange(0, 39, 5), np.arange(1980, 2019, 5))\n",
    "plt.xlabel(\"Year\", fontsize=15)\n",
    "plt.ylabel(\"Cumulative Cancelled Loans\", fontsize=15)\n",
    "\n",
    "plt.plot(num_cancelled_by_year(\"China\"), label=\"China\")\n",
    "plt.plot(num_cancelled_by_year(\"India\"), label=\"India\")\n",
    "plt.plot(num_cancelled_by_year(\"Indonesia\"), label=\"Indonesia\")\n",
    "plt.plot(num_cancelled_by_year(\"Jordan\"), label=\"Jordan\")\n",
    "plt.plot(num_cancelled_by_year(\"Poland\"), label=\"Poland\")\n",
    "plt.plot(num_cancelled_by_year(\"Paraguay\"), label=\"Paraguay\")\n",
    "\n",
    "plt.legend()"
   ]
  },
  {
   "cell_type": "markdown",
   "metadata": {},
   "source": [
    "<br/>\n",
    "\n",
    "### &bull; Observations of Interest"
   ]
  },
  {
   "cell_type": "code",
   "execution_count": 52,
   "metadata": {
    "scrolled": true
   },
   "outputs": [],
   "source": [
    "def recession_years(countries):\n",
    "    keep_idx = []\n",
    "    for country in countries:\n",
    "        country_df = ibrd_df[ibrd_df['country']==country][['closed_date_most_recent_']]\n",
    "        # cancelled loans\n",
    "        loans = num_cancelled_by_year(country) \n",
    "        loans = [loans[0] + x - y for x, y in zip(loans[1:], loans)]\n",
    "        # recession years\n",
    "        years = [(loan, year) for loan, year in zip(loans, np.arange(1980, 2019))]\n",
    "        years = [year[1] for year in years if year[0] != 0]\n",
    "        print(country, \"experienced recessions in\", years)\n",
    "        # indice of loans\n",
    "        recession = country_df['closed_date_most_recent_'].apply(lambda x : x.year).isin(years)\n",
    "        idx = country_df[recession].index.tolist()\n",
    "        keep_idx.append(idx)\n",
    "    \n",
    "    keep_idx = [x for y in keep_idx for x in y]\n",
    "    return keep_idx\n",
    "\n",
    "def final_dataset(file_name):\n",
    "    if not os.path.isfile(file_name):\n",
    "        # filter recession years by country if not processed\n",
    "        countries = ibrd_df['country'].unique()\n",
    "        ibrd_df_processed = ibrd_df.loc[recession_years(countries)]\n",
    "        # write a file\n",
    "        outfile = open('ibrd_df_processed', 'wb')\n",
    "        pickle.dump(ibrd_df_processed, outfile)\n",
    "        outfile.close()\n",
    "    # load the file in data frame if already processed\n",
    "    infile = open(file_name, 'rb')\n",
    "    ibrd_dict = pickle.load(infile)\n",
    "    ibrd_df = pd.DataFrame.from_records(ibrd_dict)\n",
    "    infile.close()\n",
    "    \n",
    "    return ibrd_df"
   ]
  },
  {
   "cell_type": "code",
   "execution_count": 53,
   "metadata": {},
   "outputs": [],
   "source": [
    "ibrd_df = final_dataset('ibrd_df_processed')"
   ]
  },
  {
   "cell_type": "code",
   "execution_count": 54,
   "metadata": {},
   "outputs": [
    {
     "data": {
      "text/plain": [
       "(41614, 20)"
      ]
     },
     "execution_count": 54,
     "metadata": {},
     "output_type": "execute_result"
    }
   ],
   "source": [
    "ibrd_df.shape"
   ]
  },
  {
   "cell_type": "markdown",
   "metadata": {},
   "source": [
    "<br/>\n",
    "\n",
    "### &bull; Additional Data Cleaning"
   ]
  },
  {
   "cell_type": "code",
   "execution_count": 55,
   "metadata": {},
   "outputs": [
    {
     "name": "stdout",
     "output_type": "stream",
     "text": [
      "['agreement_signing_date', 'board_approval_date', 'closed_date_most_recent_', 'effective_date_most_recent_', 'end_of_period', 'first_repayment_date', 'last_repayment_date']\n"
     ]
    }
   ],
   "source": [
    "# date columns\n",
    "date_cols.pop()\n",
    "print(date_cols)\n",
    "\n",
    "# delete date columns\n",
    "ibrd_df.drop(columns=date_cols, inplace=True)"
   ]
  },
  {
   "cell_type": "markdown",
   "metadata": {},
   "source": [
    "------"
   ]
  },
  {
   "cell_type": "markdown",
   "metadata": {},
   "source": [
    "<br/>\n",
    "\n",
    "## Data Clustering: *Borrower, Project*"
   ]
  },
  {
   "cell_type": "code",
   "execution_count": 56,
   "metadata": {},
   "outputs": [
    {
     "data": {
      "text/html": [
       "<table border=\"1\" class=\"dataframe\">\n",
       "  <thead>\n",
       "    <tr style=\"text-align: right;\">\n",
       "      <th></th>\n",
       "      <th>unique</th>\n",
       "      <th>top</th>\n",
       "      <th>freq</th>\n",
       "    </tr>\n",
       "  </thead>\n",
       "  <tbody>\n",
       "    <tr>\n",
       "      <th>borrower</th>\n",
       "      <td>139</td>\n",
       "      <td>MINISTRY OF FINANCE</td>\n",
       "      <td>8506</td>\n",
       "    </tr>\n",
       "    <tr>\n",
       "      <th>loan_type</th>\n",
       "      <td>7</td>\n",
       "      <td>POOL LOAN</td>\n",
       "      <td>17572</td>\n",
       "    </tr>\n",
       "    <tr>\n",
       "      <th>project_name_</th>\n",
       "      <td>453</td>\n",
       "      <td>IRRIG. AGRIC. INTENS</td>\n",
       "      <td>390</td>\n",
       "    </tr>\n",
       "    <tr>\n",
       "      <th>region</th>\n",
       "      <td>12</td>\n",
       "      <td>EAST ASIA AND PACIFIC</td>\n",
       "      <td>8422</td>\n",
       "    </tr>\n",
       "  </tbody>\n",
       "</table>"
      ],
      "text/plain": [
       "<IPython.core.display.HTML object>"
      ]
     },
     "metadata": {},
     "output_type": "display_data"
    }
   ],
   "source": [
    "ibrd_df.drop(columns=['country', 'country_code', 'loan_number', 'project_id'], inplace=True)\n",
    "ibrd_df['region'] = ibrd_df['region'].astype('category')\n",
    "display(HTML(ibrd_df.describe(include=['object', 'category'])\\\n",
    "             .drop('count').T.to_html()))"
   ]
  },
  {
   "cell_type": "markdown",
   "metadata": {},
   "source": [
    "<br/>\n",
    "\n",
    "### &bull; Borrower"
   ]
  },
  {
   "cell_type": "code",
   "execution_count": 57,
   "metadata": {},
   "outputs": [
    {
     "data": {
      "image/png": "[encoded data removed]",
      "text/plain": [
       "<Figure size 1152x576 with 1 Axes>"
      ]
     },
     "metadata": {
      "needs_background": "light"
     },
     "output_type": "display_data"
    }
   ],
   "source": [
    "borrowers = [str(x).lower() for x in ibrd_df['borrower']]\n",
    "common_borrower = Counter(borrowers).most_common()[:20]\n",
    "\n",
    "plt.figure(figsize=(16, 8))\n",
    "plt.bar([x[0] for x in common_borrower], [x[1] for x in common_borrower], color='r')\n",
    "plt.xticks(rotation='vertical', fontsize=15)\n",
    "plt.tight_layout()\n",
    "plt.show()"
   ]
  },
  {
   "cell_type": "code",
   "execution_count": 58,
   "metadata": {},
   "outputs": [
    {
     "name": "stdout",
     "output_type": "stream",
     "text": [
      "(41614, 8)\n"
     ]
    }
   ],
   "source": [
    "ibrd_df.drop(columns=['borrower'], inplace=True)\n",
    "print(ibrd_df.shape)"
   ]
  },
  {
   "cell_type": "markdown",
   "metadata": {},
   "source": [
    "<br/>\n",
    "\n",
    "### &bull; Project Name"
   ]
  },
  {
   "cell_type": "code",
   "execution_count": 59,
   "metadata": {
    "scrolled": true
   },
   "outputs": [],
   "source": [
    "def freq_project(proj_names):\n",
    "    proj_list = []\n",
    "    roman_num = ['i', 'ii', 'iii', 'iv', 'v', 'vi', 'vii', 'vii', 'ix', 'x']\n",
    "    \n",
    "    for project in list(proj_names):\n",
    "        words = filter(str.isalpha, project.split(\" \"))\n",
    "        for word in words:\n",
    "            word = word.lower()\n",
    "            if word not in roman_num:\n",
    "                proj_list.append(word)\n",
    "    \n",
    "    return Counter(proj_list).most_common()"
   ]
  },
  {
   "cell_type": "code",
   "execution_count": 60,
   "metadata": {
    "scrolled": false
   },
   "outputs": [
    {
     "data": {
      "image/png": "[encoded data removed]",
      "text/plain": [
       "<Figure size 1152x576 with 1 Axes>"
      ]
     },
     "metadata": {
      "needs_background": "light"
     },
     "output_type": "display_data"
    }
   ],
   "source": [
    "common_proj = freq_project(ibrd_df['project_name_'])[:50]\n",
    "\n",
    "plt.figure(figsize=(16, 8))\n",
    "plt.bar([x[0] for x in common_proj], [x[1] for x in common_proj], color='r')\n",
    "plt.xticks(rotation='vertical', fontsize=15)\n",
    "plt.tight_layout()\n",
    "plt.show()"
   ]
  },
  {
   "cell_type": "markdown",
   "metadata": {},
   "source": [
    "* SAL: Structural Adjustment Loan\n",
    "* DFC: Dedicated Freight Corridor\n",
    "* TA: Technical Assistance"
   ]
  },
  {
   "cell_type": "code",
   "execution_count": 61,
   "metadata": {},
   "outputs": [],
   "source": [
    "proj_dict = {\n",
    "    'power': ['pw', 'power', 'gas', 'oil', \n",
    "              'petroleum', 'energy', 'mining'],\n",
    "    'education': ['ed', 'edu', 'edc', 'education', \n",
    "                  'child', 'children', 'youth'],\n",
    "    'water': ['wt', 'wtr', 'water'],\n",
    "    'city': ['city', 'cities', 'urban'],\n",
    "    'road': ['hwy', 'highway', 'highways', 'rd', 'road', 'roads', \n",
    "             'ln', 'lanes', 'rail', 'railway', 'railways'],\n",
    "    'health': ['hlth', 'health', 'med', 'medical'],\n",
    "    'transport': ['dfc', 'freight', 'pr', 'port', 'ports', 'transport'],\n",
    "    'finance': ['credit', 'fin', 'finance', 'investment', 'fund'],\n",
    "    'rehab': ['rhb', 'rehab', 'rehabilitation'],\n",
    "    'construction': ['sal', 'rural', 'land', 'reform', \n",
    "                     'forestry', 'sewerage', 'housing'],\n",
    "    'agriculture': ['ag', 'agr', 'agric', 'livestock', 'fertilizer'],\n",
    "    'industry': ['ind', 'indus', 'industry'],\n",
    "    'environment': ['env', 'envnt', 'environment'],\n",
    "    'emergency': ['emer', 'emgy', 'emergency', 'supply']\n",
    "}"
   ]
  },
  {
   "cell_type": "code",
   "execution_count": 62,
   "metadata": {},
   "outputs": [],
   "source": [
    "def sector_finder(project_name):\n",
    "    project_name = project_name.split(\" \")\n",
    "    # handel the convention - country code XX-...\n",
    "    project_name[0] = re.sub(r\"^\\w+-\", \"\", project_name[0])\n",
    "    # each word of at least 2 length\n",
    "    project_name = list(filter(lambda x : len(x) > 1, project_name))\n",
    "    \n",
    "    # look up proj_dict to classify the sector\n",
    "    sector = \"\"\n",
    "    score = 0\n",
    "    for word in project_name:\n",
    "        for key, val in proj_dict.items():\n",
    "            scores = [fuzz.ratio(word.lower(), proj) for proj in val]\n",
    "            if max(scores) > score:\n",
    "                sector = key\n",
    "                score = max(scores)\n",
    "        # early stop if matched enough\n",
    "        if score > 95:\n",
    "            return sector\n",
    "    # no sector if not enough\n",
    "    if score < 65:\n",
    "        return \"other\"\n",
    "    \n",
    "    return sector"
   ]
  },
  {
   "cell_type": "code",
   "execution_count": 63,
   "metadata": {},
   "outputs": [
    {
     "name": "stdout",
     "output_type": "stream",
     "text": [
      "(41614, 8)\n"
     ]
    }
   ],
   "source": [
    "ibrd_df['project_sector'] = ibrd_df['project_name_'].apply(lambda x : sector_finder(x))\n",
    "ibrd_df.drop('project_name_', axis=1, inplace=True)\n",
    "print(ibrd_df.shape)"
   ]
  },
  {
   "cell_type": "code",
   "execution_count": 64,
   "metadata": {
    "scrolled": true
   },
   "outputs": [
    {
     "data": {
      "text/html": [
       "<table border=\"1\" class=\"dataframe\">\n",
       "  <thead>\n",
       "    <tr style=\"text-align: right;\">\n",
       "      <th></th>\n",
       "      <th>unique</th>\n",
       "      <th>top</th>\n",
       "      <th>freq</th>\n",
       "    </tr>\n",
       "  </thead>\n",
       "  <tbody>\n",
       "    <tr>\n",
       "      <th>loan_type</th>\n",
       "      <td>7</td>\n",
       "      <td>POOL LOAN</td>\n",
       "      <td>17572</td>\n",
       "    </tr>\n",
       "    <tr>\n",
       "      <th>region</th>\n",
       "      <td>6</td>\n",
       "      <td>EAST ASIA AND PACIFIC</td>\n",
       "      <td>16752</td>\n",
       "    </tr>\n",
       "    <tr>\n",
       "      <th>project_sector</th>\n",
       "      <td>15</td>\n",
       "      <td>other</td>\n",
       "      <td>13717</td>\n",
       "    </tr>\n",
       "  </tbody>\n",
       "</table>"
      ],
      "text/plain": [
       "<IPython.core.display.HTML object>"
      ]
     },
     "metadata": {},
     "output_type": "display_data"
    }
   ],
   "source": [
    "ibrd_df['region'] = ibrd_df['region'].apply(lambda x: x.upper()).astype('category')\n",
    "ibrd_df['project_sector'] = ibrd_df['project_sector'].astype('category')\n",
    "display(HTML(ibrd_df.describe(include=['category']).drop('count').T.to_html()))"
   ]
  },
  {
   "cell_type": "markdown",
   "metadata": {},
   "source": [
    "------"
   ]
  },
  {
   "cell_type": "markdown",
   "metadata": {},
   "source": [
    "<br/>\n",
    "\n",
    "## Feature Selection"
   ]
  },
  {
   "cell_type": "code",
   "execution_count": 65,
   "metadata": {},
   "outputs": [],
   "source": [
    "\"\"\"\n",
    "Draw the distributions of repaid and cancelled loans together\n",
    "Add the means as vertical lines\n",
    "\"\"\"\n",
    "def feature_dist(col, xlabel, repaid, cancelled):\n",
    "    repaid_mean = np.mean(repaid)\n",
    "    cancelled_mean = np.mean(cancelled)\n",
    "    # plot distributions\n",
    "    plt.figure(figsize=(8,6))\n",
    "    sns.kdeplot(repaid, shade=True, label=\"Repaid\")\n",
    "    sns.kdeplot(cancelled, shade=True, label=\"Cancelled\")\n",
    "    # decoration\n",
    "    plt.axvline(x=repaid_mean, linestyle='--', linewidth=0.75)\n",
    "    plt.axvline(x=cancelled_mean, linestyle='--', linewidth=0.75, color='coral')\n",
    "    plt.title(\"Distribution of \"+ '\"' + col + '\"', fontsize=15)\n",
    "    plt.xlabel(xlabel, fontsize=12)\n",
    "    plt.show()\n",
    "\n",
    "    \n",
    "\"\"\"\n",
    "Conduct Mann-Whitney test on two distributions\n",
    "Scale the data between (-1,+1): x_scaled = 2*(x - min(x_origin))/range(x_origin) - 1\n",
    "\"\"\"\n",
    "def mann_whitney(col, xlabel):\n",
    "    repaid = ibrd_df[ibrd_df['loan_status']==0][col]\n",
    "    cancelled = ibrd_df[ibrd_df['loan_status']==1][col]\n",
    "    # plot and print\n",
    "    print(\"Repaid - mean:\", np.mean(repaid), \"/ median:\", np.median(repaid))\n",
    "    print(\"Cancelled - mean:\", np.mean(cancelled), \"/ median:\", np.median(cancelled))\n",
    "    feature_dist(col, xlabel, repaid, cancelled)\n",
    "    \n",
    "    # Mann-Whitney test\n",
    "    p_value = sc.stats.mannwhitneyu(repaid, cancelled).pvalue\n",
    "    \n",
    "    print(\"P-value:\", p_value)\n",
    "    if p_value < 0.05:\n",
    "        print(\"Distributions of\", col, \"by loan repaid or cancelled are different at alpha=0.05\")\n",
    "    else:\n",
    "        print(\"Distributions of\", col, \"by loan repaid or cancelled are not different at alpha=0.05\")"
   ]
  },
  {
   "cell_type": "markdown",
   "metadata": {},
   "source": [
    "<br/>\n",
    "\n",
    "### &bull; Numerical Data: *Statistical Analysis*"
   ]
  },
  {
   "cell_type": "code",
   "execution_count": 66,
   "metadata": {
    "scrolled": false
   },
   "outputs": [
    {
     "name": "stdout",
     "output_type": "stream",
     "text": [
      "Repaid - mean: 6.169062338848055 / median: 6.9\n",
      "Cancelled - mean: 5.548070966081736 / median: 6.93\n"
     ]
    },
    {
     "data": {
      "image/png": "[encoded data removed]",
      "text/plain": [
       "<Figure size 576x432 with 1 Axes>"
      ]
     },
     "metadata": {
      "needs_background": "light"
     },
     "output_type": "display_data"
    },
    {
     "name": "stdout",
     "output_type": "stream",
     "text": [
      "P-value: 1.708467482901202e-67\n",
      "Distributions of interest_rate by loan repaid or cancelled are different at alpha=0.05\n"
     ]
    }
   ],
   "source": [
    "mann_whitney('interest_rate', \"Percent\")"
   ]
  },
  {
   "cell_type": "code",
   "execution_count": 67,
   "metadata": {},
   "outputs": [
    {
     "name": "stdout",
     "output_type": "stream",
     "text": [
      "Mean (without 0%) - Repaid: 6.419447594063373 / Cancelled: 6.85001828612225\n",
      "Median (without 0%) - Repaid: 7.0 / Cancelled: 7.07\n"
     ]
    }
   ],
   "source": [
    "repaid = ibrd_df[ibrd_df['loan_status']==0]['interest_rate']\n",
    "cancelled = ibrd_df[ibrd_df['loan_status']==1]['interest_rate']\n",
    "\n",
    "repaid = repaid[repaid!=0]\n",
    "cancelled = cancelled[cancelled!=0]\n",
    "\n",
    "print(\"Mean (without 0%) - Repaid:\", np.mean(repaid), \"/ Cancelled:\", np.mean(cancelled))\n",
    "print(\"Median (without 0%) - Repaid:\", np.median(repaid), \"/ Cancelled:\", np.median(cancelled))"
   ]
  },
  {
   "cell_type": "code",
   "execution_count": 68,
   "metadata": {
    "scrolled": false
   },
   "outputs": [
    {
     "name": "stdout",
     "output_type": "stream",
     "text": [
      "Repaid - mean: 59232298.53392448 / median: 25000000.0\n",
      "Cancelled - mean: 42755877.14606002 / median: 20000000.0\n"
     ]
    },
    {
     "data": {
      "image/png": "[encoded data removed]",
      "text/plain": [
       "<Figure size 576x432 with 1 Axes>"
      ]
     },
     "metadata": {
      "needs_background": "light"
     },
     "output_type": "display_data"
    },
    {
     "name": "stdout",
     "output_type": "stream",
     "text": [
      "P-value: 4.2478122911741e-61\n",
      "Distributions of original_principal_amount by loan repaid or cancelled are different at alpha=0.05\n"
     ]
    }
   ],
   "source": [
    "mann_whitney('original_principal_amount', \"Dollar\")"
   ]
  },
  {
   "cell_type": "code",
   "execution_count": 69,
   "metadata": {
    "scrolled": false
   },
   "outputs": [
    {
     "name": "stdout",
     "output_type": "stream",
     "text": [
      "Repaid - mean: 126.25136362251273 / median: 36.0\n",
      "Cancelled - mean: 109.08457428668865 / median: 45.0\n"
     ]
    },
    {
     "data": {
      "image/png": "[encoded data removed]",
      "text/plain": [
       "<Figure size 576x432 with 1 Axes>"
      ]
     },
     "metadata": {
      "needs_background": "light"
     },
     "output_type": "display_data"
    },
    {
     "name": "stdout",
     "output_type": "stream",
     "text": [
      "P-value: 4.388425396846735e-62\n",
      "Distributions of days_for_signing by loan repaid or cancelled are different at alpha=0.05\n"
     ]
    }
   ],
   "source": [
    "mann_whitney('days_for_signing', \"Days\")"
   ]
  },
  {
   "cell_type": "code",
   "execution_count": 70,
   "metadata": {
    "scrolled": false
   },
   "outputs": [
    {
     "name": "stdout",
     "output_type": "stream",
     "text": [
      "Repaid - mean: 4851.941006185818 / median: 5294.0\n",
      "Cancelled - mean: 4369.113106740934 / median: 4564.0\n"
     ]
    },
    {
     "data": {
      "image/png": "[encoded data removed]",
      "text/plain": [
       "<Figure size 576x432 with 1 Axes>"
      ]
     },
     "metadata": {
      "needs_background": "light"
     },
     "output_type": "display_data"
    },
    {
     "name": "stdout",
     "output_type": "stream",
     "text": [
      "P-value: 0.0\n",
      "Distributions of days_for_repayment by loan repaid or cancelled are different at alpha=0.05\n"
     ]
    }
   ],
   "source": [
    "mann_whitney('days_for_repayment', \"Days\")"
   ]
  },
  {
   "cell_type": "markdown",
   "metadata": {},
   "source": [
    "<br/>\n",
    "\n",
    "### &bull; Categorical Data"
   ]
  },
  {
   "cell_type": "code",
   "execution_count": 71,
   "metadata": {},
   "outputs": [],
   "source": [
    "def feature_bar(col):\n",
    "    cancel_sum = ibrd_df.groupby([col])['loan_status'].sum()\n",
    "    loan_total = ibrd_df.groupby([col])['loan_status'].count()\n",
    "    # loan_total = loan_total[loan_total!=0]\n",
    "    cate_df = pd.concat([cancel_sum, loan_total], axis=1)\n",
    "    cate_df.columns = ['cancel_sum', 'loan_total']\n",
    "    print(\"Cancellation Rate by\", col)\n",
    "    print(cate_df.cancel_sum/cate_df.loan_total)\n",
    "    # cate_df.dropna(axis=0, inplace=True)\n",
    "    tidy_df = (\n",
    "        cate_df.stack().reset_index().\n",
    "        rename(columns={'level_1': 'variable', 0: 'value'})\n",
    "    )\n",
    "    \n",
    "    plt.figure(figsize=(12,6))\n",
    "    sns.barplot(x=col, y='value', hue='variable', data=tidy_df)\n",
    "    sns.despine()\n",
    "    plt.title(\"Loan Count by \" + '\"' + col + '\"', fontsize=15)\n",
    "    plt.xticks(rotation=70)\n",
    "    plt.xlabel(\"\")\n",
    "    plt.ylabel(\"Count\", fontsize=12)\n",
    "    plt.show()"
   ]
  },
  {
   "cell_type": "code",
   "execution_count": 72,
   "metadata": {
    "scrolled": false
   },
   "outputs": [
    {
     "name": "stdout",
     "output_type": "stream",
     "text": [
      "Cancellation Rate by loan_type\n",
      "loan_type\n",
      "BLOAN         1.000000\n",
      "FSL           1.000000\n",
      "NON POOL      0.159745\n",
      "POOL LOAN     0.210847\n",
      "SCP EUR       0.000000\n",
      "SCP JPY            NaN\n",
      "SCP USD       0.000000\n",
      "SNGL CRNCY    0.344801\n",
      "dtype: float64\n"
     ]
    },
    {
     "data": {
      "image/png": "[encoded data removed]",
      "text/plain": [
       "<Figure size 864x432 with 1 Axes>"
      ]
     },
     "metadata": {
      "needs_background": "light"
     },
     "output_type": "display_data"
    }
   ],
   "source": [
    "feature_bar('loan_type')"
   ]
  },
  {
   "cell_type": "code",
   "execution_count": 73,
   "metadata": {},
   "outputs": [
    {
     "name": "stdout",
     "output_type": "stream",
     "text": [
      "Cancellation Rate by region\n",
      "region\n",
      "AFRICA                          0.500560\n",
      "EAST ASIA AND PACIFIC           0.084527\n",
      "EUROPE AND CENTRAL ASIA         0.395829\n",
      "LATIN AMERICA AND CARIBBEAN     0.264013\n",
      "MIDDLE EAST AND NORTH AFRICA    0.322196\n",
      "SOUTH ASIA                      0.214485\n",
      "dtype: float64\n"
     ]
    },
    {
     "data": {
      "image/png": "[encoded data removed]",
      "text/plain": [
       "<Figure size 864x432 with 1 Axes>"
      ]
     },
     "metadata": {
      "needs_background": "light"
     },
     "output_type": "display_data"
    }
   ],
   "source": [
    "feature_bar('region')"
   ]
  },
  {
   "cell_type": "code",
   "execution_count": 74,
   "metadata": {},
   "outputs": [
    {
     "name": "stdout",
     "output_type": "stream",
     "text": [
      "Cancellation Rate by project_sector\n",
      "project_sector\n",
      "agriculture     0.373171\n",
      "city            0.084433\n",
      "construction    0.312549\n",
      "education       0.336627\n",
      "emergency       0.479899\n",
      "environment     0.087866\n",
      "finance         0.497995\n",
      "health          0.064322\n",
      "industry        0.286140\n",
      "other           0.166582\n",
      "power           0.143416\n",
      "rehab           0.585253\n",
      "road            0.224285\n",
      "transport       0.086380\n",
      "water           0.329453\n",
      "dtype: float64\n"
     ]
    },
    {
     "data": {
      "image/png": "[encoded data removed]",
      "text/plain": [
       "<Figure size 864x432 with 1 Axes>"
      ]
     },
     "metadata": {
      "needs_background": "light"
     },
     "output_type": "display_data"
    }
   ],
   "source": [
    "feature_bar('project_sector')"
   ]
  },
  {
   "cell_type": "markdown",
   "metadata": {},
   "source": [
    "<br/>\n",
    "\n",
    "### &bull; Considering Both: *Boxplot, Scatterplot*"
   ]
  },
  {
   "cell_type": "code",
   "execution_count": 75,
   "metadata": {
    "scrolled": true
   },
   "outputs": [
    {
     "data": {
      "text/plain": [
       "(array([ 0,  1,  2,  3,  4,  5,  6,  7,  8,  9, 10, 11, 12, 13, 14]),\n",
       " <a list of 15 Text xticklabel objects>)"
      ]
     },
     "execution_count": 75,
     "metadata": {},
     "output_type": "execute_result"
    },
    {
     "data": {
      "image/png": "[encoded data removed]",
      "text/plain": [
       "<Figure size 1080x360 with 1 Axes>"
      ]
     },
     "metadata": {
      "needs_background": "light"
     },
     "output_type": "display_data"
    }
   ],
   "source": [
    "plt.figure(figsize=(15,5))\n",
    "sns.boxplot(x='project_sector', y='original_principal_amount', \n",
    "            hue='loan_status', data=ibrd_df)\n",
    "plt.xticks(rotation=70)"
   ]
  },
  {
   "cell_type": "markdown",
   "metadata": {},
   "source": [
    "------"
   ]
  },
  {
   "cell_type": "markdown",
   "metadata": {},
   "source": [
    "<br/>\n",
    "\n",
    "## Modeling and Evaluation"
   ]
  },
  {
   "cell_type": "code",
   "execution_count": 76,
   "metadata": {},
   "outputs": [
    {
     "name": "stdout",
     "output_type": "stream",
     "text": [
      "Final ibrd_df columns\n",
      "['interest_rate',\n",
      " 'loan_status',\n",
      " 'loan_type',\n",
      " 'original_principal_amount',\n",
      " 'region',\n",
      " 'days_for_signing',\n",
      " 'days_for_repayment',\n",
      " 'project_sector']\n"
     ]
    }
   ],
   "source": [
    "ibrd_target_name = ['loan_status']\n",
    "ibrd_feature_names = list(set(ibrd_df.columns)-set(ibrd_target_name))\n",
    "print(\"Final ibrd_df columns\")\n",
    "pprint(list(ibrd_df.columns))"
   ]
  },
  {
   "cell_type": "code",
   "execution_count": 77,
   "metadata": {
    "scrolled": true
   },
   "outputs": [],
   "source": [
    "def balance_dataset(df, size):\n",
    "    repaid_df = df[df['loan_status']==0]\n",
    "    cancelled_df = df[df['loan_status']==1]\n",
    "\n",
    "    repaid_idx = np.random.choice(list(repaid_df.index), \n",
    "                                  int(len(cancelled_df)*size), replace=False)\n",
    "    repaid_balanced_df = df.loc[repaid_idx]\n",
    "\n",
    "    cancelled_idx = np.random.choice(list(cancelled_df.index), \n",
    "                                     int(len(cancelled_df)*size), replace=False)\n",
    "    cancelled_balanced_df = ibrd_df.loc[cancelled_idx]\n",
    "\n",
    "    balanced_df = pd.concat([repaid_balanced_df, cancelled_balanced_df])\n",
    "    balanced_df = shuffle(balanced_df)\n",
    "    \n",
    "    return balanced_df\n",
    "\n",
    "def split_X_y(df, features):\n",
    "    cate_cols = df.select_dtypes(include='category').columns\n",
    "    for col in cate_cols:\n",
    "        le = ppr.LabelEncoder()\n",
    "        le.fit(df[col])\n",
    "        df[col] = le.transform(df[col])\n",
    "    \n",
    "    X = np.array(df[features])\n",
    "    y = np.array(df['loan_status'])\n",
    "    \n",
    "    return X, y"
   ]
  },
  {
   "cell_type": "code",
   "execution_count": 78,
   "metadata": {},
   "outputs": [
    {
     "name": "stdout",
     "output_type": "stream",
     "text": [
      "Size of balanced training dataset: 14074\n",
      "Count of cancelled loans in balanced training dataset: 7037\n"
     ]
    }
   ],
   "source": [
    "# balanced training set\n",
    "train_df = balance_dataset(ibrd_df, 0.8)\n",
    "print(\"Size of balanced training dataset:\", len(train_df))\n",
    "print(\"Count of cancelled loans in balanced training dataset:\", \n",
    "      len(train_df[train_df['loan_status']==1]))\n",
    "\n",
    "# training set X, y\n",
    "train_X, train_y = split_X_y(train_df, ibrd_feature_names)"
   ]
  },
  {
   "cell_type": "code",
   "execution_count": 79,
   "metadata": {},
   "outputs": [
    {
     "name": "stdout",
     "output_type": "stream",
     "text": [
      "Size of balanced validation dataset: 3520\n",
      "Count of cancelled loans in balanced validation dataset: 1760\n"
     ]
    }
   ],
   "source": [
    "# balanced validation set\n",
    "valid_df = ibrd_df.iloc[list(set(ibrd_df.index)-set(train_df.index))]\n",
    "valid_df = balance_dataset(valid_df, 1)\n",
    "print(\"Size of balanced validation dataset:\", len(valid_df))\n",
    "print(\"Count of cancelled loans in balanced validation dataset:\", \n",
    "      len(valid_df[valid_df['loan_status']==1]))\n",
    "\n",
    "# validation set X, y\n",
    "valid_X, valid_y = split_X_y(valid_df, ibrd_feature_names)"
   ]
  },
  {
   "cell_type": "markdown",
   "metadata": {},
   "source": [
    "<br/>\n",
    "\n",
    "### &bull; Base Model"
   ]
  },
  {
   "cell_type": "code",
   "execution_count": 80,
   "metadata": {},
   "outputs": [],
   "source": [
    "def model_evaluation(clf, train_X, train_y, valid_X, valid_y):\n",
    "    scores = cross_val_score(clf, train_X, train_y, cv=5)\n",
    "    clf.fit(train_X, train_y)\n",
    "    pred = clf.predict(valid_X)\n",
    "    \n",
    "    # 95% confidence interval (=about 2 std width)\n",
    "    print(\"Cross Validation Accuracy: %0.2f (+/- %0.2f)\" % (scores.mean(), scores.std()*2))\n",
    "    # confusion matrix, precision, recall, f-score\n",
    "    print(\"\\nPrediction against Validation Set\\n- Confusion Matrix\\n\", confusion_matrix(valid_y, pred))\n",
    "    print(\"\\n- Classification Report\\n\", classification_report(valid_y, pred))\n",
    "    print(\"\\t(0: Repaid, 1: Cancelled)\")"
   ]
  },
  {
   "cell_type": "code",
   "execution_count": 81,
   "metadata": {},
   "outputs": [
    {
     "name": "stdout",
     "output_type": "stream",
     "text": [
      "Cross Validation Accuracy: 0.54 (+/- 0.01)\n",
      "\n",
      "Prediction against Validation Set\n",
      "- Confusion Matrix\n",
      " [[ 338 1422]\n",
      " [ 217 1543]]\n",
      "\n",
      "- Classification Report\n",
      "              precision    recall  f1-score   support\n",
      "\n",
      "          0       0.61      0.19      0.29      1760\n",
      "          1       0.52      0.88      0.65      1760\n",
      "\n",
      "avg / total       0.56      0.53      0.47      3520\n",
      "\n",
      "\t(0: Repaid, 1: Cancelled)\n"
     ]
    }
   ],
   "source": [
    "model_evaluation(GaussianNB(), train_X, train_y, valid_X, valid_y)"
   ]
  },
  {
   "cell_type": "markdown",
   "metadata": {},
   "source": [
    "<br/>\n",
    "\n",
    "### &bull; Prediction Models"
   ]
  },
  {
   "cell_type": "code",
   "execution_count": 82,
   "metadata": {
    "scrolled": true
   },
   "outputs": [
    {
     "name": "stdout",
     "output_type": "stream",
     "text": [
      "Cross Validation Accuracy: 1.00 (+/- 0.00)\n",
      "\n",
      "Prediction against Validation Set\n",
      "- Confusion Matrix\n",
      " [[1757    3]\n",
      " [   0 1760]]\n",
      "\n",
      "- Classification Report\n",
      "              precision    recall  f1-score   support\n",
      "\n",
      "          0       1.00      1.00      1.00      1760\n",
      "          1       1.00      1.00      1.00      1760\n",
      "\n",
      "avg / total       1.00      1.00      1.00      3520\n",
      "\n",
      "\t(0: Repaid, 1: Cancelled)\n"
     ]
    }
   ],
   "source": [
    "model_evaluation(tree.DecisionTreeClassifier(), \n",
    "                 train_X, train_y, valid_X, valid_y)"
   ]
  },
  {
   "cell_type": "code",
   "execution_count": 83,
   "metadata": {
    "scrolled": true
   },
   "outputs": [
    {
     "name": "stdout",
     "output_type": "stream",
     "text": [
      "Cross Validation Accuracy: 1.00 (+/- 0.00)\n",
      "\n",
      "Prediction against Validation Set\n",
      "- Confusion Matrix\n",
      " [[1760    0]\n",
      " [   0 1760]]\n",
      "\n",
      "- Classification Report\n",
      "              precision    recall  f1-score   support\n",
      "\n",
      "          0       1.00      1.00      1.00      1760\n",
      "          1       1.00      1.00      1.00      1760\n",
      "\n",
      "avg / total       1.00      1.00      1.00      3520\n",
      "\n",
      "\t(0: Repaid, 1: Cancelled)\n"
     ]
    }
   ],
   "source": [
    "model_evaluation(SVC(), train_X, train_y, valid_X, valid_y)"
   ]
  },
  {
   "cell_type": "code",
   "execution_count": 84,
   "metadata": {},
   "outputs": [
    {
     "name": "stdout",
     "output_type": "stream",
     "text": [
      "Cross Validation Accuracy: 0.96 (+/- 0.02)\n",
      "\n",
      "Prediction against Validation Set\n",
      "- Confusion Matrix\n",
      " [[1643  117]\n",
      " [  46 1714]]\n",
      "\n",
      "- Classification Report\n",
      "              precision    recall  f1-score   support\n",
      "\n",
      "          0       0.97      0.93      0.95      1760\n",
      "          1       0.94      0.97      0.95      1760\n",
      "\n",
      "avg / total       0.95      0.95      0.95      3520\n",
      "\n",
      "\t(0: Repaid, 1: Cancelled)\n"
     ]
    }
   ],
   "source": [
    "model_evaluation(GradientBoostingClassifier(), \n",
    "                 train_X, train_y, valid_X, valid_y)"
   ]
  },
  {
   "cell_type": "markdown",
   "metadata": {},
   "source": [
    "<br/>\n",
    "\n",
    "### &bull; Model Selection: *Decision Tree*"
   ]
  },
  {
   "cell_type": "code",
   "execution_count": 85,
   "metadata": {
    "scrolled": true
   },
   "outputs": [
    {
     "data": {
      "text/html": [
       "\n",
       "        <iframe\n",
       "            width=\"800\"\n",
       "            height=\"400\"\n",
       "            src=\"ibrd_tree.pdf\"\n",
       "            frameborder=\"0\"\n",
       "            allowfullscreen\n",
       "        ></iframe>\n",
       "        "
      ],
      "text/plain": [
       "<IPython.lib.display.IFrame at 0x2759776e278>"
      ]
     },
     "execution_count": 85,
     "metadata": {},
     "output_type": "execute_result"
    }
   ],
   "source": [
    "# training\n",
    "dtree = tree.DecisionTreeClassifier()\n",
    "dtree.fit(train_X, train_y)\n",
    "# graphical data\n",
    "dot_data = tree.export_graphviz(dtree, out_file=None, \n",
    "                                feature_names=ibrd_feature_names,  \n",
    "                                class_names=['Reapid', 'Cancelled'],\n",
    "                                filled=True, rounded=True,  \n",
    "                                special_characters=True)  \n",
    "# generate a graph\n",
    "graph = graphviz.Source(dot_data)\n",
    "graph.render('ibrd_tree')\n",
    "\n",
    "IFrame('ibrd_tree.pdf', width=800, height=400)"
   ]
  },
  {
   "cell_type": "code",
   "execution_count": 86,
   "metadata": {},
   "outputs": [
    {
     "data": {
      "image/png": "[encoded data removed]",
      "text/plain": [
       "<Figure size 576x432 with 1 Axes>"
      ]
     },
     "metadata": {
      "needs_background": "light"
     },
     "output_type": "display_data"
    }
   ],
   "source": [
    "feature_scores = list(dtree.feature_importances_)\n",
    "dtree_feature = pd.DataFrame({'feature': ibrd_feature_names, \n",
    "                              'score': feature_scores})\n",
    "dtree_feature.sort_values(by='score', ascending=False, inplace=True)\n",
    "\n",
    "plt.figure(figsize=(8,6))\n",
    "sns.barplot(x='feature', y='score', data=dtree_feature, \n",
    "            palette='Blues_d')\n",
    "sns.despine()\n",
    "plt.title(\"Decision Tree Feature Importance\", fontsize=15)\n",
    "plt.xlabel(\"Feature\", fontsize=12)\n",
    "plt.xticks(rotation=60)\n",
    "plt.ylabel(\"Score\", fontsize=12)\n",
    "\n",
    "plt.show()"
   ]
  },
  {
   "cell_type": "code",
   "execution_count": 87,
   "metadata": {},
   "outputs": [
    {
     "name": "stdout",
     "output_type": "stream",
     "text": [
      "Cross Validation Accuracy: 0.89 (+/- 0.01)\n",
      "\n",
      "Prediction against Validation Set\n",
      "- Confusion Matrix\n",
      " [[1555  205]\n",
      " [ 226 1534]]\n",
      "\n",
      "- Classification Report\n",
      "              precision    recall  f1-score   support\n",
      "\n",
      "          0       0.87      0.88      0.88      1760\n",
      "          1       0.88      0.87      0.88      1760\n",
      "\n",
      "avg / total       0.88      0.88      0.88      3520\n",
      "\n",
      "\t(0: Repaid, 1: Cancelled)\n"
     ]
    }
   ],
   "source": [
    "train_less_X, train_less_y = split_X_y(train_df, ['loan_type', 'interest_rate'])\n",
    "valid_less_X, valid_less_y = split_X_y(valid_df, ['loan_type', 'interest_rate'])\n",
    "\n",
    "model_evaluation(tree.DecisionTreeClassifier(),\n",
    "                 train_less_X, train_less_y, valid_less_X, valid_less_y)"
   ]
  },
  {
   "cell_type": "markdown",
   "metadata": {},
   "source": [
    "------"
   ]
  },
  {
   "cell_type": "markdown",
   "metadata": {},
   "source": [
    "<br/>\n",
    "\n",
    "## Conclusion"
   ]
  },
  {
   "cell_type": "code",
   "execution_count": null,
   "metadata": {},
   "outputs": [],
   "source": []
  },
  {
   "cell_type": "markdown",
   "metadata": {},
   "source": [
    "------"
   ]
  },
  {
   "cell_type": "markdown",
   "metadata": {},
   "source": [
    "<br/>\n",
    "\n",
    "## Reference"
   ]
  },
  {
   "cell_type": "markdown",
   "metadata": {},
   "source": [
    "* [The World Bank Source](https://datacatalog.worldbank.org/dataset/ibrd-statement-loans-historical-data)\n",
    "* [Socrata Meta Data](https://dev.socrata.com/foundry/finances.worldbank.org/x433-52wt)\n",
    "* [Sodapy](https://pypi.org/project/sodapy/)\n",
    "* [Plotly Map](https://plot.ly/python/choropleth-maps/)\n",
    "* [SAL project](http://projects.worldbank.org/P004484/structural-adjustment-loan-sal-project-01?lang=en)\n",
    "* [DFC project](http://www.projects.worldbank.org/P150158?lang=en)\n",
    "* [plotly ttest](https://plot.ly/python/t-test/)\n",
    "* [Mann-whitney](https://machinelearningmastery.com/nonparametric-statistical-significance-tests-in-python/)"
   ]
  }
 ],
 "metadata": {
  "kernelspec": {
   "display_name": "Python 3",
   "language": "python",
   "name": "python3"
  },
  "language_info": {
   "codemirror_mode": {
    "name": "ipython",
    "version": 3
   },
   "file_extension": ".py",
   "mimetype": "text/x-python",
   "name": "python",
   "nbconvert_exporter": "python",
   "pygments_lexer": "ipython3",
   "version": "3.6.3"
  }
 },
 "nbformat": 4,
 "nbformat_minor": 2
}
